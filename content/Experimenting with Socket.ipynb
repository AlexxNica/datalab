{
 "cells": [
  {
   "cell_type": "code",
   "execution_count": null,
   "metadata": {
    "collapsed": true
   },
   "outputs": [],
   "source": [
    "import socket\n",
    "\n",
    "class spark_sql_proxy_client:\n",
    "    def __init__(self, sock=None):\n",
    "        if sock is None:\n",
    "            self.sock = socket.socket(\n",
    "                socket.AF_INET, socket.SOCK_STREAM)\n",
    "        else:\n",
    "            self.sock = sock\n",
    "\n",
    "    def connect(self, host, port):\n",
    "        self.sock.connect((host, port))\n",
    "\n",
    "    def send(self, msg):\n",
    "        totalsent = 0\n",
    "        while totalsent < len(msg):\n",
    "            sent = self.sock.send(msg[totalsent:])\n",
    "            if sent == 0:\n",
    "                raise RuntimeError(\"socket connection broken\")\n",
    "            totalsent = totalsent + sent\n",
    "\n",
    "    def readlines(self, recv_buffer=4096, delim='\\n'):\n",
    "      buffer = ''\n",
    "      data = True\n",
    "      while data:\n",
    "        data = self.sock.recv(recv_buffer)\n",
    "        buffer += data\n",
    "\n",
    "        while buffer.find(delim) != -1:\n",
    "            line, buffer = buffer.split('\\n', 1)\n",
    "            yield line\n",
    "        return\n",
    "\n",
    "\n",
    "client = spark_sql_proxy_client()\n",
    "client.connect('104.197.137.27', 12345)\n",
    "client.send(\"create temporary table people_json3 using org.apache.spark.sql.json options (path 'gs://alekseyv-test/people.json')\\n\")\n",
    "client.readlines()\n",
    "for line in client.readlines():\n",
    "  print(line)\n",
    "client.send(\"select * from people_json3\\n\")\n",
    "client.readlines()\n",
    "for line in client.readlines():\n",
    "  print(line)\n",
    "\n",
    "  "
   ]
  }
 ],
 "metadata": {
  "kernelspec": {
   "display_name": "Python 2",
   "language": "python",
   "name": "python2"
  },
  "language_info": {
   "codemirror_mode": {
    "name": "ipython",
    "version": 2
   },
   "file_extension": ".py",
   "mimetype": "text/x-python",
   "name": "python",
   "nbconvert_exporter": "python",
   "pygments_lexer": "ipython2",
   "version": "2.7.9"
  }
 },
 "nbformat": 4,
 "nbformat_minor": 0
}
