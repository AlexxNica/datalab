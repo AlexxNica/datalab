{
 "cells": [
  {
   "cell_type": "code",
   "execution_count": 242,
   "metadata": {
    "collapsed": false
   },
   "outputs": [
    {
     "name": "stdout",
     "output_type": "stream",
     "text": [
      "Rd15/12/16 04:29:06 INFO org.spark-project.jetty.server.Server: jetty-8.y.z-SNAPSHOT\n",
      "15/12/16 04:29:06\n"
     ]
    }
   ],
   "source": [
    "import gcp\n",
    "import gcp._context\n",
    "import gcp._util\n",
    "\n",
    "import sys\n",
    "import grpc.framework.face.exceptions\n",
    "from grpc.beta import implementations\n",
    "from gcp.spark.bytestream_pb2 import beta_create_ByteStream_stub\n",
    "from gcp.spark.bytestream_pb2 import ReadRequest\n",
    "from gcp.spark.bytestream_pb2 import ReadResponse\n",
    "from gcp.spark.bytestream_pb2 import WriteRequest\n",
    "from gcp.spark.bytestream_pb2 import WriteResponse\n",
    "from gcp.spark.bytestream_pb2 import QueryWriteStatusRequest\n",
    "from gcp.spark.bytestream_pb2 import QueryWriteStatusResponse\n",
    "from oauth2client.client import GoogleCredentials\n",
    "from grpc.beta.implementations import ClientCredentials\n",
    "\n",
    "class MetadataTransformer(object):\n",
    "    \"\"\"Callable class to transform metadata for gRPC requests.\n",
    "    :type client: :class:`.client.Client`\n",
    "    :param client: The client that owns the cluster. Provides authorization and\n",
    "                   user agent.\n",
    "    \"\"\"\n",
    "\n",
    "    def __init__(self, client):\n",
    "        self._credentials = client.credentials\n",
    "        self._user_agent = 'GoogleCloudDataLab/1.0'\n",
    "\n",
    "    def __call__(self, ignored_val):\n",
    "        \"\"\"Adds authorization header to request metadata.\"\"\"\n",
    "        access_token = self._credentials.get_access_token().access_token\n",
    "        return [\n",
    "            ('Authorization', 'Bearer ' + access_token),\n",
    "            ('User-agent', self._user_agent),\n",
    "        ]\n",
    "\n",
    "SSL_CERT_FILE = '/etc/ssl/certs/ca-certificates.crt'\n",
    "def get_certs():\n",
    "    \"\"\"Gets the root certificates.\n",
    "    .. note::\n",
    "        This is only called by :func:`make_stub`. For most applications,\n",
    "        a few gRPC stubs (four total, one for each service) will be created\n",
    "        when a :class:`.Client` is created. This function will not likely\n",
    "        be used again while that application is running.\n",
    "        However, it may be worthwhile to cache the output of this function.\n",
    "    :rtype: str\n",
    "    :returns: The root certificates for the current machine.\n",
    "    \"\"\"\n",
    "    with open(SSL_CERT_FILE, mode='rb') as file_obj:\n",
    "        return file_obj.read()\n",
    "      \n",
    "\n",
    "DEFAULT_HOST = \"test-dataproc.sandbox.googleapis.com\";\n",
    "DEFAULT_PORT = 443;\n",
    "\n",
    "JOB_ID = 'spark-shell-a822b38e-0a00-4949-ae5d-b76648fcadaa'\n",
    "CLUSTER_ID = '39d18ff1-db0d-4305-bfb1-66dfd69e5758'\n",
    "\n",
    "def read_bytestream(read_limit, read_offset):\n",
    "  driverInputResourceUri = u'//test-dataproc.sandbox.googleapis.com/projects/datalab-spark/clusters/%s/jobs/%s/bytestreams/stdin' % (CLUSTER_ID, JOB_ID)\n",
    "  driverOutputResourceUri = u'//test-dataproc.sandbox.googleapis.com/projects/datalab-spark/clusters/%s/jobs/%s/bytestreams/stdout' % (CLUSTER_ID, JOB_ID)\n",
    "\n",
    "  custom_metadata_transformer = MetadataTransformer(gcp.Context.default())\n",
    "\n",
    "  root_certificates = get_certs()\n",
    "  client_credentials = implementations.ssl_client_credentials(root_certificates, private_key=None, certificate_chain=None)\n",
    "\n",
    "  try:\n",
    "    channel = implementations.secure_channel(DEFAULT_HOST, DEFAULT_PORT, client_credentials)\n",
    "    stub = beta_create_ByteStream_stub(channel, metadata_transformer=custom_metadata_transformer)\n",
    "    readRequest = ReadRequest(resource_name=driverOutputResourceUri, read_limit=read_limit, read_offset=read_offset)\n",
    "    return stub.Read(readRequest, 10)\n",
    "    \n",
    "  except grpc.framework.interfaces.face.face.NetworkError as ex:\n",
    "#  except Exception as ex:\n",
    "    print('network error: ex.code:%s, ex.details:%s' % (ex.code, ex.details)) # TODO: refresh token when expired\n",
    "    #gcp.Context.default().credentials.refresh(None)\n",
    "    #gcp.Context._global_context = None\n",
    "  return None\n",
    "\n",
    "def query_write_status():\n",
    "  driverInputResourceUri = u'//test-dataproc.sandbox.googleapis.com/projects/datalab-spark/clusters/%s/jobs/%s/bytestreams/stdin' % (CLUSTER_ID, JOB_ID)\n",
    "  custom_metadata_transformer = MetadataTransformer(gcp.Context.default())\n",
    "\n",
    "  root_certificates = get_certs()\n",
    "  client_credentials = implementations.ssl_client_credentials(root_certificates, private_key=None, certificate_chain=None)\n",
    "  channel = implementations.secure_channel(DEFAULT_HOST, DEFAULT_PORT, client_credentials)\n",
    "  query_write_status_request = QueryWriteStatusRequest(resource_name=driverInputResourceUri)\n",
    "  \n",
    "  stub = beta_create_ByteStream_stub(channel, metadata_transformer=custom_metadata_transformer)\n",
    "  return stub.QueryWriteStatus(query_write_status_request, 20)\n",
    "    \n",
    "\n",
    "def write_bytestream(string_data, write_offset):\n",
    "  driverInputResourceUri = u'//test-dataproc.sandbox.googleapis.com/projects/datalab-spark/clusters/%s/jobs/%s/bytestreams/stdin' % (CLUSTER_ID, JOB_ID)\n",
    "  driverOutputResourceUri = u'//test-dataproc.sandbox.googleapis.com/projects/datalab-spark/clusters/%s/jobs/%s/bytestreams/stdout' % (CLUSTER_ID, JOB_ID)\n",
    "\n",
    "  custom_metadata_transformer = MetadataTransformer(gcp.Context.default())\n",
    "\n",
    "  root_certificates = get_certs()\n",
    "  client_credentials = implementations.ssl_client_credentials(root_certificates, private_key=None, certificate_chain=None)\n",
    "\n",
    "  try:\n",
    "    channel = implementations.secure_channel(DEFAULT_HOST, DEFAULT_PORT, client_credentials)\n",
    "    stub = beta_create_ByteStream_stub(channel, metadata_transformer=custom_metadata_transformer)\n",
    "    writeRequest = WriteRequest(resource_name=driverInputResourceUri, data = str.encode(string_data), write_offset = write_offset, finish_write = False)\n",
    "   \n",
    "    return stub.Write([writeRequest], 20)\n",
    "    \n",
    "  except grpc.framework.interfaces.face.face.NetworkError as ex:\n",
    "    print('expiration error: ex.code:%s, ex.details:%s' % (ex.code, ex.details)) # TODO: refresh token when expired\n",
    "    #gcp.Context.default().credentials.refresh(None)\n",
    "    #gcp.Context._global_context = None\n",
    "  return None\n",
    "\n",
    "\n",
    "#gcp.Context.default().credentials.refresh(None)\n",
    "#gcp.Context._global_context = None\n",
    "\n",
    "#print(query_write_status())\n",
    "\n",
    "#str.encode(\"data\")\n",
    "#print(str(query_write_status().committed_size))\n",
    "#print(write_bytestream(\"sqlContext\\n\", query_write_status().committed_size))\n",
    "\n",
    "\n",
    "print(ReadResponse.SerializeToString(read_bytestream(100, 0).result()))\n",
    "#print(read_bytestream(5600, 10).result().data)\n",
    "\n"
   ]
  },
  {
   "cell_type": "code",
   "execution_count": 136,
   "metadata": {
    "collapsed": false
   },
   "outputs": [
    {
     "ename": "NetworkError",
     "evalue": "",
     "output_type": "error",
     "traceback": [
      "\u001b[1;31m---------------------------------------------------------------------------\u001b[0m",
      "\u001b[1;31mNetworkError\u001b[0m                              Traceback (most recent call last)",
      "\u001b[1;32m<ipython-input-136-1a2a8a41acd5>\u001b[0m in \u001b[0;36m<module>\u001b[1;34m()\u001b[0m\n\u001b[0;32m      7\u001b[0m \u001b[1;33m\u001b[0m\u001b[0m\n\u001b[0;32m      8\u001b[0m \u001b[1;33m\u001b[0m\u001b[0m\n\u001b[1;32m----> 9\u001b[1;33m \u001b[1;32mprint\u001b[0m\u001b[1;33m(\u001b[0m\u001b[0mread_bytestream\u001b[0m\u001b[1;33m(\u001b[0m\u001b[1;36m10\u001b[0m\u001b[1;33m,\u001b[0m \u001b[1;36m10\u001b[0m\u001b[1;33m)\u001b[0m\u001b[1;33m.\u001b[0m\u001b[0mresult\u001b[0m\u001b[1;33m(\u001b[0m\u001b[1;33m)\u001b[0m\u001b[1;33m.\u001b[0m\u001b[0mdata\u001b[0m\u001b[1;33m)\u001b[0m\u001b[1;33m\u001b[0m\u001b[0m\n\u001b[0m\u001b[0;32m     10\u001b[0m \u001b[1;33m\u001b[0m\u001b[0m\n",
      "\u001b[1;32m/usr/local/lib/python2.7/dist-packages/grpc/framework/crust/_control.pyc\u001b[0m in \u001b[0;36mresult\u001b[1;34m(self, timeout)\u001b[0m\n\u001b[0;32m    322\u001b[0m             \u001b[1;32mraise\u001b[0m \u001b[0mfuture\u001b[0m\u001b[1;33m.\u001b[0m\u001b[0mCancelledError\u001b[0m\u001b[1;33m(\u001b[0m\u001b[1;33m)\u001b[0m\u001b[1;33m\u001b[0m\u001b[0m\n\u001b[0;32m    323\u001b[0m           \u001b[1;32melse\u001b[0m\u001b[1;33m:\u001b[0m\u001b[1;33m\u001b[0m\u001b[0m\n\u001b[1;32m--> 324\u001b[1;33m             \u001b[1;32mraise\u001b[0m \u001b[0mself\u001b[0m\u001b[1;33m.\u001b[0m\u001b[0m_termination\u001b[0m\u001b[1;33m.\u001b[0m\u001b[0mabortion_error\u001b[0m  \u001b[1;31m# pylint: disable=raising-bad-type\u001b[0m\u001b[1;33m\u001b[0m\u001b[0m\n\u001b[0m\u001b[0;32m    325\u001b[0m         \u001b[1;32melse\u001b[0m\u001b[1;33m:\u001b[0m\u001b[1;33m\u001b[0m\u001b[0m\n\u001b[0;32m    326\u001b[0m           \u001b[0m_wait_once_until\u001b[0m\u001b[1;33m(\u001b[0m\u001b[0mself\u001b[0m\u001b[1;33m.\u001b[0m\u001b[0m_condition\u001b[0m\u001b[1;33m,\u001b[0m \u001b[0muntil\u001b[0m\u001b[1;33m)\u001b[0m\u001b[1;33m\u001b[0m\u001b[0m\n",
      "\u001b[1;31mNetworkError\u001b[0m: "
     ]
    }
   ],
   "source": [
    "DEFAULT_HOST = \"test-dataproc.sandbox.googleapis.com\";\n",
    "DEFAULT_PORT = 443;\n",
    "\n",
    "\n"
   ]
  },
  {
   "cell_type": "code",
   "execution_count": 11,
   "metadata": {
    "collapsed": false
   },
   "outputs": [
    {
     "data": {
      "text/plain": [
       "['__call__',\n",
       " '__class__',\n",
       " '__closure__',\n",
       " '__code__',\n",
       " '__defaults__',\n",
       " '__delattr__',\n",
       " '__dict__',\n",
       " '__doc__',\n",
       " '__format__',\n",
       " '__get__',\n",
       " '__getattribute__',\n",
       " '__globals__',\n",
       " '__hash__',\n",
       " '__init__',\n",
       " '__module__',\n",
       " '__name__',\n",
       " '__new__',\n",
       " '__reduce__',\n",
       " '__reduce_ex__',\n",
       " '__repr__',\n",
       " '__setattr__',\n",
       " '__sizeof__',\n",
       " '__str__',\n",
       " '__subclasshook__',\n",
       " 'func_closure',\n",
       " 'func_code',\n",
       " 'func_defaults',\n",
       " 'func_dict',\n",
       " 'func_doc',\n",
       " 'func_globals',\n",
       " 'func_name']"
      ]
     },
     "execution_count": 11,
     "metadata": {},
     "output_type": "execute_result"
    }
   ],
   "source": [
    "dir(beta_create_ByteStream_stub)"
   ]
  }
 ],
 "metadata": {
  "kernelspec": {
   "display_name": "Python 2",
   "language": "python",
   "name": "python2"
  },
  "language_info": {
   "codemirror_mode": {
    "name": "ipython",
    "version": 2
   },
   "file_extension": ".py",
   "mimetype": "text/x-python",
   "name": "python",
   "nbconvert_exporter": "python",
   "pygments_lexer": "ipython2",
   "version": "2.7.9"
  }
 },
 "nbformat": 4,
 "nbformat_minor": 0
}
