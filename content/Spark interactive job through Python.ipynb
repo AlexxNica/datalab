{
 "cells": [
  {
   "cell_type": "code",
   "execution_count": 5,
   "metadata": {
    "collapsed": false
   },
   "outputs": [
    {
     "ename": "ImportError",
     "evalue": "No module named googlecloudsdk.third_party.apitools.base.py",
     "output_type": "error",
     "traceback": [
      "\u001b[1;31m---------------------------------------------------------------------------\u001b[0m",
      "\u001b[1;31mImportError\u001b[0m                               Traceback (most recent call last)",
      "\u001b[1;32m<ipython-input-5-222455f75b0c>\u001b[0m in \u001b[0;36m<module>\u001b[1;34m()\u001b[0m\n\u001b[0;32m      5\u001b[0m \u001b[1;32mimport\u001b[0m \u001b[0mpkgutil\u001b[0m\u001b[1;33m\u001b[0m\u001b[0m\n\u001b[0;32m      6\u001b[0m \u001b[1;33m\u001b[0m\u001b[0m\n\u001b[1;32m----> 7\u001b[1;33m \u001b[1;32mfrom\u001b[0m \u001b[0mgooglecloudsdk\u001b[0m\u001b[1;33m.\u001b[0m\u001b[0mthird_party\u001b[0m\u001b[1;33m.\u001b[0m\u001b[0mapitools\u001b[0m\u001b[1;33m.\u001b[0m\u001b[0mbase\u001b[0m\u001b[1;33m.\u001b[0m\u001b[0mpy\u001b[0m \u001b[1;32mimport\u001b[0m \u001b[1;33m*\u001b[0m\u001b[1;33m\u001b[0m\u001b[0m\n\u001b[0m\u001b[0;32m      8\u001b[0m \u001b[1;32mfrom\u001b[0m \u001b[0mgooglecloudsdk\u001b[0m\u001b[1;33m.\u001b[0m\u001b[0mthird_party\u001b[0m\u001b[1;33m.\u001b[0m\u001b[0mapis\u001b[0m\u001b[1;33m.\u001b[0m\u001b[0mdataproc\u001b[0m\u001b[1;33m.\u001b[0m\u001b[0mv1beta1\u001b[0m\u001b[1;33m.\u001b[0m\u001b[0mdataproc_v1beta1_client\u001b[0m \u001b[1;32mimport\u001b[0m \u001b[1;33m*\u001b[0m\u001b[1;33m\u001b[0m\u001b[0m\n\u001b[0;32m      9\u001b[0m \u001b[1;32mfrom\u001b[0m \u001b[0mgooglecloudsdk\u001b[0m\u001b[1;33m.\u001b[0m\u001b[0mthird_party\u001b[0m\u001b[1;33m.\u001b[0m\u001b[0mapis\u001b[0m\u001b[1;33m.\u001b[0m\u001b[0mdataproc\u001b[0m\u001b[1;33m.\u001b[0m\u001b[0mv1beta1\u001b[0m\u001b[1;33m.\u001b[0m\u001b[0mdataproc_v1beta1_messages\u001b[0m \u001b[1;32mimport\u001b[0m \u001b[1;33m*\u001b[0m\u001b[1;33m\u001b[0m\u001b[0m\n",
      "\u001b[1;31mImportError\u001b[0m: No module named googlecloudsdk.third_party.apitools.base.py"
     ]
    }
   ],
   "source": [
    "# %load __init__.py\n",
    "\"\"\"Common imports for generated dataproc client library.\"\"\"\n",
    "# pylint:disable=wildcard-import\n",
    "\n",
    "import pkgutil\n",
    "\n",
    "from googlecloudsdk.third_party.apitools.base.py import *\n",
    "from googlecloudsdk.third_party.apis.dataproc.v1beta1.dataproc_v1beta1_client import *\n",
    "from googlecloudsdk.third_party.apis.dataproc.v1beta1.dataproc_v1beta1_messages import *\n",
    "\n",
    "__path__ = pkgutil.extend_path(__path__, __name__)\n",
    "\n",
    "import sys"
   ]
  },
  {
   "cell_type": "code",
   "execution_count": 13,
   "metadata": {
    "collapsed": false
   },
   "outputs": [
    {
     "data": {
      "text/plain": [
       "{u'jobs': [{u'driverControlFilesUri': u'gs://dataproc-38815733-337d-4be6-bd75-9fc858a3bf57-us/google-cloud-dataproc-metainfo/9fd31970-869c-49c2-810d-28046920f1d8/jobs/ce66f94b-c442-449a-9299-d903c60f7101/',\n",
       "   u'driverOutputResourceUri': u'gs://dataproc-38815733-337d-4be6-bd75-9fc858a3bf57-us/google-cloud-dataproc-metainfo/9fd31970-869c-49c2-810d-28046920f1d8/jobs/ce66f94b-c442-449a-9299-d903c60f7101/driveroutput',\n",
       "   u'placement': {u'clusterName': u'cluster-1',\n",
       "    u'clusterUuid': u'9fd31970-869c-49c2-810d-28046920f1d8'},\n",
       "   u'reference': {u'jobId': u'ce66f94b-c442-449a-9299-d903c60f7101',\n",
       "    u'projectId': u'datalab-spark'},\n",
       "   u'sparkSqlJob': {u'loggingConfiguration': {},\n",
       "    u'queryList': {u'queries': [u'CREATE TABLE IF NOT EXISTS alekseyv_table (key INT, value STRING);\\nselect * from alekseyv_table;']}},\n",
       "   u'status': {u'state': u'DONE',\n",
       "    u'stateStartTime': u'2015-11-05T20:16:04.218Z'},\n",
       "   u'statusHistory': [{u'state': u'PENDING',\n",
       "     u'stateStartTime': u'2015-11-05T20:15:12.444Z'},\n",
       "    {u'state': u'SETUP_DONE', u'stateStartTime': u'2015-11-05T20:15:12.583Z'},\n",
       "    {u'details': u'Agent reported job success',\n",
       "     u'state': u'RUNNING',\n",
       "     u'stateStartTime': u'2015-11-05T20:15:17.545Z'}]},\n",
       "  {u'driverControlFilesUri': u'gs://dataproc-38815733-337d-4be6-bd75-9fc858a3bf57-us/google-cloud-dataproc-metainfo/9fd31970-869c-49c2-810d-28046920f1d8/jobs/21b10f04-835e-4be9-91d5-94fc7836d71e/',\n",
       "   u'driverOutputResourceUri': u'gs://dataproc-38815733-337d-4be6-bd75-9fc858a3bf57-us/google-cloud-dataproc-metainfo/9fd31970-869c-49c2-810d-28046920f1d8/jobs/21b10f04-835e-4be9-91d5-94fc7836d71e/driveroutput',\n",
       "   u'placement': {u'clusterName': u'cluster-1',\n",
       "    u'clusterUuid': u'9fd31970-869c-49c2-810d-28046920f1d8'},\n",
       "   u'reference': {u'jobId': u'21b10f04-835e-4be9-91d5-94fc7836d71e',\n",
       "    u'projectId': u'datalab-spark'},\n",
       "   u'sparkSqlJob': {u'loggingConfiguration': {},\n",
       "    u'queryList': {u'queries': [u'select * from alekseyv_table']}},\n",
       "   u'status': {u'state': u'ERROR',\n",
       "    u'stateStartTime': u'2015-11-05T20:14:30.495Z'},\n",
       "   u'statusHistory': [{u'state': u'PENDING',\n",
       "     u'stateStartTime': u'2015-11-05T20:13:35.619Z'},\n",
       "    {u'state': u'SETUP_DONE', u'stateStartTime': u'2015-11-05T20:13:35.735Z'},\n",
       "    {u'details': u\"Job failed; details available in 'gs://dataproc-38815733-337d-4be6-bd75-9fc858a3bf57-us/google-cloud-dataproc-metainfo/9fd31970-869c-49c2-810d-28046920f1d8/jobs/21b10f04-835e-4be9-91d5-94fc7836d71e/driveroutput'\",\n",
       "     u'state': u'RUNNING',\n",
       "     u'stateStartTime': u'2015-11-05T20:13:59.545Z'}]},\n",
       "  {u'driverControlFilesUri': u'gs://dataproc-38815733-337d-4be6-bd75-9fc858a3bf57-us/google-cloud-dataproc-metainfo/9fd31970-869c-49c2-810d-28046920f1d8/jobs/2b7730b2-cc3e-4ffb-980b-eade96f3363c/',\n",
       "   u'driverOutputResourceUri': u'gs://dataproc-38815733-337d-4be6-bd75-9fc858a3bf57-us/google-cloud-dataproc-metainfo/9fd31970-869c-49c2-810d-28046920f1d8/jobs/2b7730b2-cc3e-4ffb-980b-eade96f3363c/driveroutput',\n",
       "   u'placement': {u'clusterName': u'cluster-1',\n",
       "    u'clusterUuid': u'9fd31970-869c-49c2-810d-28046920f1d8'},\n",
       "   u'reference': {u'jobId': u'2b7730b2-cc3e-4ffb-980b-eade96f3363c',\n",
       "    u'projectId': u'datalab-spark'},\n",
       "   u'sparkSqlJob': {u'loggingConfiguration': {},\n",
       "    u'queryList': {u'queries': [u'CREATE TABLE IF NOT EXISTS alekseyv_table (key INT, value STRING)']}},\n",
       "   u'status': {u'state': u'DONE',\n",
       "    u'stateStartTime': u'2015-11-05T20:11:45.471Z'},\n",
       "   u'statusHistory': [{u'state': u'PENDING',\n",
       "     u'stateStartTime': u'2015-11-05T20:11:09.343Z'},\n",
       "    {u'state': u'SETUP_DONE', u'stateStartTime': u'2015-11-05T20:11:09.463Z'},\n",
       "    {u'details': u'Agent reported job success',\n",
       "     u'state': u'RUNNING',\n",
       "     u'stateStartTime': u'2015-11-05T20:11:14.388Z'}]},\n",
       "  {u'driverControlFilesUri': u'gs://dataproc-38815733-337d-4be6-bd75-9fc858a3bf57-us/google-cloud-dataproc-metainfo/9fd31970-869c-49c2-810d-28046920f1d8/jobs/1c10dac2-98c1-486a-8a01-131415e6c660/',\n",
       "   u'driverOutputResourceUri': u'gs://dataproc-38815733-337d-4be6-bd75-9fc858a3bf57-us/google-cloud-dataproc-metainfo/9fd31970-869c-49c2-810d-28046920f1d8/jobs/1c10dac2-98c1-486a-8a01-131415e6c660/driveroutput',\n",
       "   u'placement': {u'clusterName': u'cluster-1',\n",
       "    u'clusterUuid': u'9fd31970-869c-49c2-810d-28046920f1d8'},\n",
       "   u'reference': {u'jobId': u'1c10dac2-98c1-486a-8a01-131415e6c660',\n",
       "    u'projectId': u'datalab-spark'},\n",
       "   u'sparkSqlJob': {u'loggingConfiguration': {},\n",
       "    u'queryList': {u'queries': [u\"CREATE TABLE weather (\\n   city            varchar(80),\\n   temp_lo         int,           -- low temperature\\n   temp_hi         int,           -- high temperature\\n   prcp            real,          -- precipitation\\n   date            date\\n);\\nINSERT INTO weather VALUES ('San Francisco', 46, 50, 0.25, '1994-11-27');\\nINSERT INTO weather VALUES ('San Francisco', 43, 57, 0.0, '1994-11-29');\\nINSERT INTO weather VALUES ('Hayward', 54, 37, 0.25, '1994-11-29');\"]}},\n",
       "   u'status': {u'state': u'ERROR',\n",
       "    u'stateStartTime': u'2015-11-05T20:08:07.270Z'},\n",
       "   u'statusHistory': [{u'state': u'PENDING',\n",
       "     u'stateStartTime': u'2015-11-05T20:07:30.759Z'},\n",
       "    {u'state': u'SETUP_DONE', u'stateStartTime': u'2015-11-05T20:07:30.892Z'},\n",
       "    {u'details': u\"Job failed; details available in 'gs://dataproc-38815733-337d-4be6-bd75-9fc858a3bf57-us/google-cloud-dataproc-metainfo/9fd31970-869c-49c2-810d-28046920f1d8/jobs/1c10dac2-98c1-486a-8a01-131415e6c660/driveroutput'\",\n",
       "     u'state': u'RUNNING',\n",
       "     u'stateStartTime': u'2015-11-05T20:07:35.882Z'}]},\n",
       "  {u'driverControlFilesUri': u'gs://dataproc-38815733-337d-4be6-bd75-9fc858a3bf57-us/google-cloud-dataproc-metainfo/9fd31970-869c-49c2-810d-28046920f1d8/jobs/fd53a407-54ab-4610-922a-64448620c62f/',\n",
       "   u'driverOutputResourceUri': u'gs://dataproc-38815733-337d-4be6-bd75-9fc858a3bf57-us/google-cloud-dataproc-metainfo/9fd31970-869c-49c2-810d-28046920f1d8/jobs/fd53a407-54ab-4610-922a-64448620c62f/driveroutput',\n",
       "   u'placement': {u'clusterName': u'cluster-1',\n",
       "    u'clusterUuid': u'9fd31970-869c-49c2-810d-28046920f1d8'},\n",
       "   u'reference': {u'jobId': u'fd53a407-54ab-4610-922a-64448620c62f',\n",
       "    u'projectId': u'datalab-spark'},\n",
       "   u'sparkSqlJob': {u'loggingConfiguration': {},\n",
       "    u'queryList': {u'queries': [u'select 1']}},\n",
       "   u'status': {u'state': u'DONE',\n",
       "    u'stateStartTime': u'2015-11-05T20:03:47.240Z'},\n",
       "   u'statusHistory': [{u'state': u'PENDING',\n",
       "     u'stateStartTime': u'2015-11-05T20:03:10.796Z'},\n",
       "    {u'state': u'SETUP_DONE', u'stateStartTime': u'2015-11-05T20:03:10.921Z'},\n",
       "    {u'details': u'Agent reported job success',\n",
       "     u'state': u'RUNNING',\n",
       "     u'stateStartTime': u'2015-11-05T20:03:16.051Z'}]},\n",
       "  {u'driverControlFilesUri': u'gs://dataproc-38815733-337d-4be6-bd75-9fc858a3bf57-us/google-cloud-dataproc-metainfo/9fd31970-869c-49c2-810d-28046920f1d8/jobs/b1f0efa9-dc15-4487-bc45-e9912e580214/',\n",
       "   u'driverOutputResourceUri': u'gs://dataproc-38815733-337d-4be6-bd75-9fc858a3bf57-us/google-cloud-dataproc-metainfo/9fd31970-869c-49c2-810d-28046920f1d8/jobs/b1f0efa9-dc15-4487-bc45-e9912e580214/driveroutput',\n",
       "   u'placement': {u'clusterName': u'cluster-1',\n",
       "    u'clusterUuid': u'9fd31970-869c-49c2-810d-28046920f1d8'},\n",
       "   u'reference': {u'jobId': u'b1f0efa9-dc15-4487-bc45-e9912e580214',\n",
       "    u'projectId': u'datalab-spark'},\n",
       "   u'sparkJob': {u'args': [u'1000'],\n",
       "    u'jarFileUris': [u'file:///usr/lib/spark/lib/spark-examples.jar'],\n",
       "    u'loggingConfiguration': {},\n",
       "    u'mainClass': u'org.apache.spark.examples.SparkPi'},\n",
       "   u'status': {u'state': u'DONE',\n",
       "    u'stateStartTime': u'2015-10-02T00:17:02.832Z'},\n",
       "   u'statusHistory': [{u'state': u'PENDING',\n",
       "     u'stateStartTime': u'2015-10-02T00:16:15.693Z'},\n",
       "    {u'state': u'SETUP_DONE', u'stateStartTime': u'2015-10-02T00:16:15.837Z'},\n",
       "    {u'details': u'Agent reported job success',\n",
       "     u'state': u'RUNNING',\n",
       "     u'stateStartTime': u'2015-10-02T00:16:20.852Z'}]},\n",
       "  {u'driverControlFilesUri': u'gs://dataproc-38815733-337d-4be6-bd75-9fc858a3bf57-us/google-cloud-dataproc-metainfo/9fd31970-869c-49c2-810d-28046920f1d8/jobs/5b0d9360-a069-4044-a1fc-7601111d4f00/',\n",
       "   u'driverOutputResourceUri': u'gs://dataproc-38815733-337d-4be6-bd75-9fc858a3bf57-us/google-cloud-dataproc-metainfo/9fd31970-869c-49c2-810d-28046920f1d8/jobs/5b0d9360-a069-4044-a1fc-7601111d4f00/driveroutput',\n",
       "   u'placement': {u'clusterName': u'cluster-1',\n",
       "    u'clusterUuid': u'9fd31970-869c-49c2-810d-28046920f1d8'},\n",
       "   u'pysparkJob': {u'loggingConfiguration': {},\n",
       "    u'mainPythonFileUri': u'gs://dataproc-38815733-337d-4be6-bd75-9fc858a3bf57-us/google-cloud-dataproc-staging/9fd31970-869c-49c2-810d-28046920f1d8/hello-world.py'},\n",
       "   u'reference': {u'jobId': u'5b0d9360-a069-4044-a1fc-7601111d4f00',\n",
       "    u'projectId': u'datalab-spark'},\n",
       "   u'status': {u'state': u'DONE',\n",
       "    u'stateStartTime': u'2015-10-02T00:14:27.968Z'},\n",
       "   u'statusHistory': [{u'state': u'PENDING',\n",
       "     u'stateStartTime': u'2015-10-02T00:13:44.436Z'},\n",
       "    {u'state': u'SETUP_DONE', u'stateStartTime': u'2015-10-02T00:13:44.604Z'},\n",
       "    {u'details': u'Agent reported job success',\n",
       "     u'state': u'RUNNING',\n",
       "     u'stateStartTime': u'2015-10-02T00:13:49.799Z'}]}]}"
      ]
     },
     "execution_count": 13,
     "metadata": {},
     "output_type": "execute_result"
    }
   ],
   "source": [
    "\n",
    "import gcp\n",
    "import gcp._context\n",
    "import gcp._util\n",
    "#import googlecloudsdk.third_party.apis.dataproc.v1beta1.dataproc_v1beta1_client\n",
    "\n",
    "def jobs_list(context):\n",
    "    url = 'https://dataproc.googleapis.com/v1beta1/projects/' + context.project_id + '/jobs/'\n",
    "    \n",
    "    return gcp._util.Http.request(url, '', credentials=context.credentials)\n",
    "  \n",
    "def jobs_submit(context):\n",
    "    url = 'https://dataproc.googleapis.com/v1beta1/projects/' + context.project_id + '/jobs:submit'\n",
    "    \n",
    "    return gcp._util.Http.request(url, '', credentials=context.credentials)  \n",
    "  \n",
    "_ENDPOINT = 'https://dataproc.googleapis.com/v1beta1'\n",
    "_JOBS_PATH = '/projects/%s/jobs/%s'\n",
    "  \n",
    "def jobs_get(job_id, context):\n",
    "  \"\"\"Issues a request to retrieve information about a job.\n",
    "  Args:\n",
    "    job_id: the id of the job\n",
    "    project_id: the project id to use to fetch the results; use None for the default project.\n",
    "  Returns:\n",
    "    A parsed result object.\n",
    "  Raises:\n",
    "    Exception if there is an error performing the operation.\n",
    "  \"\"\"\n",
    "  #url = _ENDPOINT + (_JOBS_PATH % (context.project_id, job_id))\n",
    "  #url = 'https://dataproc.googleapis.com/v1beta1/projects/' + context.project_id + '/jobs' + job_id\n",
    "  url = 'https://dataproc.googleapis.com/v1beta1/projects/'+ context.project_id + '/jobs/' + job_id\n",
    "  return gcp._util.Http.request(url, '', credentials=context.credentials)  \n",
    "\n",
    "jobs_list(gcp.Context.default())\n",
    "#jobs_get('ce66f94b-c442-449a-9299-d903c60f7101', gcp.Context.default())"
   ]
  },
  {
   "cell_type": "code",
   "execution_count": 38,
   "metadata": {
    "collapsed": false
   },
   "outputs": [
    {
     "ename": "ImportError",
     "evalue": "No module named google.appengine.ext.webapp.util",
     "output_type": "error",
     "traceback": [
      "\u001b[1;31m---------------------------------------------------------------------------\u001b[0m",
      "\u001b[1;31mImportError\u001b[0m                               Traceback (most recent call last)",
      "\u001b[1;32m<ipython-input-38-1b61f182efeb>\u001b[0m in \u001b[0;36m<module>\u001b[1;34m()\u001b[0m\n\u001b[0;32m      6\u001b[0m \u001b[1;31m#sys.path\u001b[0m\u001b[1;33m\u001b[0m\u001b[1;33m\u001b[0m\u001b[0m\n\u001b[0;32m      7\u001b[0m \u001b[1;31m#import googlecloudsdk.third_party.apis.dataproc.v1beta1.dataproc_v1beta1_client\u001b[0m\u001b[1;33m\u001b[0m\u001b[1;33m\u001b[0m\u001b[0m\n\u001b[1;32m----> 8\u001b[1;33m \u001b[1;32mfrom\u001b[0m \u001b[0mgoogle\u001b[0m\u001b[1;33m.\u001b[0m\u001b[0mappengine\u001b[0m\u001b[1;33m.\u001b[0m\u001b[0mext\u001b[0m\u001b[1;33m.\u001b[0m\u001b[0mwebapp\u001b[0m\u001b[1;33m.\u001b[0m\u001b[0mutil\u001b[0m \u001b[1;32mimport\u001b[0m \u001b[0mrun_wsgi_app\u001b[0m\u001b[1;33m\u001b[0m\u001b[0m\n\u001b[0m",
      "\u001b[1;31mImportError\u001b[0m: No module named google.appengine.ext.webapp.util"
     ]
    }
   ],
   "source": [
    "import sys\n",
    "import os\n",
    "#sys.path\n",
    "#os.getcwd()\n",
    "#sys.path.append(os.getcwd())\n",
    "#sys.path\n",
    "#import googlecloudsdk.third_party.apis.dataproc.v1beta1.dataproc_v1beta1_client\n",
    "from google.appengine.ext.webapp.util import run_wsgi_app"
   ]
  },
  {
   "cell_type": "code",
   "execution_count": 32,
   "metadata": {
    "collapsed": true
   },
   "outputs": [],
   "source": [
    "\n",
    "import json\n",
    "import urllib\n",
    "import httplib2\n",
    "\n",
    "class RequestException(Exception):\n",
    "\n",
    "  def __init__(self, status, content):\n",
    "    self.status = status\n",
    "    self.content = content\n",
    "    self.message = 'HTTP request failed'\n",
    "    # Try extract a message from the body; swallow possible resulting ValueErrors and KeyErrors.\n",
    "    try:\n",
    "      self.message = json.loads(content)['error']['errors'][0]['message']\n",
    "    except ValueError:\n",
    "      pass\n",
    "    except KeyError:\n",
    "      pass\n",
    "    except TypeError:\n",
    "      pass\n",
    "\n",
    "  def __str__(self):\n",
    "    return self.message\n",
    "\n",
    "def request_(url, args=None, data=None, headers=None, method=None,\n",
    "            credentials=None, raw_response=False):\n",
    "  \"\"\"Issues HTTP requests.\n",
    "  Args:\n",
    "    url: the URL to request.\n",
    "    args: optional query string arguments.\n",
    "    data: optional data to be sent within the request.\n",
    "    headers: optional headers to include in the request.\n",
    "    method: optional HTTP method to use. If unspecified this is inferred\n",
    "        (GET or POST) based on the existence of request data.\n",
    "    credentials: optional set of credentials to authorize the request.\n",
    "    raw_response: whether the raw response content should be returned as-is.\n",
    "  Returns:\n",
    "    The parsed response object.\n",
    "  Raises:\n",
    "    Exception when the HTTP request fails or the response cannot be processed.\n",
    "  \"\"\"\n",
    "  if headers is None:\n",
    "    headers = {}\n",
    "\n",
    "  headers['user-agent'] = 'GoogleCloudDataLab/1.0'\n",
    "  # Add querystring to the URL if there are any arguments.\n",
    "  if args is not None:\n",
    "    qs = urllib.urlencode(args)\n",
    "    url = url + '?' + qs\n",
    "\n",
    "  # Setup method to POST if unspecified, and appropriate request headers\n",
    "  # if there is data to be sent within the request.\n",
    "  if data is not None:\n",
    "    if method is None:\n",
    "      method = 'POST'\n",
    "\n",
    "    if data != '':\n",
    "      # If there is a content type specified, use it (and the data) as-is.\n",
    "      # Otherwise, assume JSON, and serialize the data object.\n",
    "      if 'Content-Type' not in headers:\n",
    "        data = json.dumps(data)\n",
    "        headers['Content-Type'] = 'application/json'\n",
    "    headers['Content-Length'] = str(len(data))\n",
    "  else:\n",
    "    if method == 'POST':\n",
    "      headers['Content-Length'] = '0'\n",
    "\n",
    "  # If the method is still unset, i.e. it was unspecified, and there\n",
    "  # was no data to be POSTed, then default to GET request.\n",
    "  if method is None:\n",
    "    method = 'GET'\n",
    "\n",
    "  # Create an Http object to issue requests. Associate the credentials\n",
    "  # with it if specified to perform authorization.\n",
    "  #\n",
    "  # TODO(nikhilko):\n",
    "  # SSL cert validation seemingly fails, and workarounds are not amenable\n",
    "  # to implementing in library code. So configure the Http object to skip\n",
    "  # doing so, in the interim.\n",
    "  http = httplib2.Http()\n",
    "  http.disable_ssl_certificate_validation = True\n",
    "  if credentials is not None:\n",
    "    http = credentials.authorize(http)\n",
    "\n",
    "  response, content = http.request(url,\n",
    "                                   method=method,\n",
    "                                   body=data,\n",
    "                                   headers=headers)\n",
    "  if 200 <= response.status < 300:\n",
    "    if raw_response:\n",
    "      return content\n",
    "  return content\n"
   ]
  },
  {
   "cell_type": "code",
   "execution_count": 35,
   "metadata": {
    "collapsed": false
   },
   "outputs": [
    {
     "data": {
      "text/plain": [
       "'{\\n  \"reference\": {\\n    \"projectId\": \"datalab-spark\",\\n    \"jobId\": \"alekseyv-manual-004c2b1a-12bb-45fe-b2b9-a140851bc8da\"\\n  },\\n  \"placement\": {\\n    \"clusterName\": \"alekseyv-interact\",\\n    \"clusterUuid\": \"888c53bb-3ab9-4e9b-8433-5a6730857535\"\\n  },\\n  \"sparkJob\": {\\n    \"mainClass\": \"org.apache.spark.repl.Main\",\\n    \"loggingConfiguration\": {}\\n  },\\n  \"status\": {\\n    \"state\": \"PENDING\",\\n    \"stateStartTime\": \"2015-11-06T23:32:18.658Z\"\\n  },\\n  \"interactive\": true\\n}\\n'"
      ]
     },
     "execution_count": 35,
     "metadata": {},
     "output_type": "execute_result"
    }
   ],
   "source": [
    "# Submit interactive job\n",
    "\n",
    "data = {\n",
    "  \"job\": {\n",
    "    \"placement\": {\n",
    "      \"clusterName\": \"alekseyv-interact\"\n",
    "    },\n",
    "    \"reference\": {\n",
    "      \"jobId\": \"alekseyv-manual-004c2b1a-12bb-45fe-b2b9-a140851bc8da\",\n",
    "      \"projectId\": \"datalab-spark\"\n",
    "    },\n",
    "    \"interactive\": \"True\",\n",
    "    \"sparkJob\": {\n",
    "      \"mainClass\": \"org.apache.spark.repl.Main\"\n",
    "    }\n",
    "  }\n",
    "}\n",
    "\n",
    "import gcp\n",
    "import gcp._context\n",
    "import gcp._util\n",
    "\n",
    "url = 'https://test-dataproc.sandbox.googleapis.com/v1beta1/projects/datalab-spark/jobs:submit/'\n",
    "\n",
    "context = gcp.Context.default()\n",
    "response = request_(url, data=data, credentials=context.credentials)\n",
    "response\n",
    "\n",
    "\n"
   ]
  },
  {
   "cell_type": "code",
   "execution_count": 36,
   "metadata": {
    "collapsed": false
   },
   "outputs": [
    {
     "data": {
      "text/plain": [
       "{u'driverControlFilesUri': u'gs://dataproc-9c5a7adf-7cdb-4eb2-b42d-d81754653069-us/google-cloud-dataproc-metainfo/888c53bb-3ab9-4e9b-8433-5a6730857535/jobs/alekseyv-manual-004c2b1a-12bb-45fe-b2b9-a140851bc8da/',\n",
       " u'driverInputResourceUri': u'//test-dataproc.sandbox.googleapis.com/projects/datalab-spark/clusters/888c53bb-3ab9-4e9b-8433-5a6730857535/jobs/alekseyv-manual-004c2b1a-12bb-45fe-b2b9-a140851bc8da/bytestreams/stdin',\n",
       " u'driverOutputResourceUri': u'//test-dataproc.sandbox.googleapis.com/projects/datalab-spark/clusters/888c53bb-3ab9-4e9b-8433-5a6730857535/jobs/alekseyv-manual-004c2b1a-12bb-45fe-b2b9-a140851bc8da/bytestreams/stdout',\n",
       " u'interactive': True,\n",
       " u'placement': {u'clusterName': u'alekseyv-interact',\n",
       "  u'clusterUuid': u'888c53bb-3ab9-4e9b-8433-5a6730857535'},\n",
       " u'reference': {u'jobId': u'alekseyv-manual-004c2b1a-12bb-45fe-b2b9-a140851bc8da',\n",
       "  u'projectId': u'datalab-spark'},\n",
       " u'sparkJob': {u'loggingConfiguration': {},\n",
       "  u'mainClass': u'org.apache.spark.repl.Main'},\n",
       " u'status': {u'state': u'RUNNING',\n",
       "  u'stateStartTime': u'2015-11-06T23:32:24.538Z'},\n",
       " u'statusHistory': [{u'state': u'PENDING',\n",
       "   u'stateStartTime': u'2015-11-06T23:32:18.658Z'},\n",
       "  {u'state': u'SETUP_DONE', u'stateStartTime': u'2015-11-06T23:32:18.825Z'}]}"
      ]
     },
     "execution_count": 36,
     "metadata": {},
     "output_type": "execute_result"
    }
   ],
   "source": [
    "# Get interactive job details\n",
    "\n",
    "job_id = \"alekseyv-manual-004c2b1a-12bb-45fe-b2b9-a140851bc8da\"\n",
    "\n",
    "url = 'https://test-dataproc.sandbox.googleapis.com/v1beta1/projects/datalab-spark/jobs/' + job_id\n",
    "\n",
    "context = gcp.Context.default()\n",
    "job_details_response = gcp._util.Http.request(url, '', credentials=context.credentials)  \n",
    "job_details_response"
   ]
  },
  {
   "cell_type": "code",
   "execution_count": 37,
   "metadata": {
    "collapsed": false
   },
   "outputs": [
    {
     "data": {
      "text/plain": [
       "'<!DOCTYPE html>\\n<html lang=en>\\n  <meta charset=utf-8>\\n  <meta name=viewport content=\"initial-scale=1, minimum-scale=1, width=device-width\">\\n  <title>Error 404 (Not Found)!!1</title>\\n  <style>\\n    *{margin:0;padding:0}html,code{font:15px/22px arial,sans-serif}html{background:#fff;color:#222;padding:15px}body{margin:7% auto 0;max-width:390px;min-height:180px;padding:30px 0 15px}* > body{background:url(//www.google.com/images/errors/robot.png) 100% 5px no-repeat;padding-right:205px}p{margin:11px 0 22px;overflow:hidden}ins{color:#777;text-decoration:none}a img{border:0}@media screen and (max-width:772px){body{background:none;margin-top:0;max-width:none;padding-right:0}}#logo{background:url(//www.google.com/images/branding/googlelogo/1x/googlelogo_color_150x54dp.png) no-repeat;margin-left:-5px}@media only screen and (min-resolution:192dpi){#logo{background:url(//www.google.com/images/branding/googlelogo/2x/googlelogo_color_150x54dp.png) no-repeat 0% 0%/100% 100%;-moz-border-image:url(//www.google.com/images/branding/googlelogo/2x/googlelogo_color_150x54dp.png) 0}}@media only screen and (-webkit-min-device-pixel-ratio:2){#logo{background:url(//www.google.com/images/branding/googlelogo/2x/googlelogo_color_150x54dp.png) no-repeat;-webkit-background-size:100% 100%}}#logo{display:inline-block;height:54px;width:150px}\\n  </style>\\n  <a href=//www.google.com/><span id=logo aria-label=Google></span></a>\\n  <p><b>404.</b> <ins>That\\xe2\\x80\\x99s an error.</ins>\\n  <p>The requested URL <code>/projects/datalab-spark/clusters/888c53bb-3ab9-4e9b-8433-5a6730857535/jobs/alekseyv-manual-004c2b1a-12bb-45fe-b2b9-a140851bc8da/bytestreams/stdout</code> was not found on this server.  <ins>That\\xe2\\x80\\x99s all we know.</ins>\\n'"
      ]
     },
     "execution_count": 37,
     "metadata": {},
     "output_type": "execute_result"
    }
   ],
   "source": [
    "url = \"https://test-dataproc.sandbox.googleapis.com/projects/datalab-spark/clusters/888c53bb-3ab9-4e9b-8433-5a6730857535/jobs/alekseyv-manual-004c2b1a-12bb-45fe-b2b9-a140851bc8da/bytestreams/stdout\"\n",
    "\n",
    "out = request_(url, '', credentials=context.credentials)\n",
    "outs"
   ]
  },
  {
   "cell_type": "code",
   "execution_count": 1,
   "metadata": {
    "collapsed": false
   },
   "outputs": [
    {
     "ename": "ImportError",
     "evalue": "No module named google3",
     "output_type": "error",
     "traceback": [
      "\u001b[1;31m---------------------------------------------------------------------------\u001b[0m",
      "\u001b[1;31mImportError\u001b[0m                               Traceback (most recent call last)",
      "\u001b[1;32m<ipython-input-1-87977ca74b89>\u001b[0m in \u001b[0;36m<module>\u001b[1;34m()\u001b[0m\n\u001b[0;32m      1\u001b[0m \u001b[1;32mimport\u001b[0m \u001b[0msys\u001b[0m\u001b[1;33m\u001b[0m\u001b[0m\n\u001b[0;32m      2\u001b[0m \u001b[0m_b\u001b[0m\u001b[1;33m=\u001b[0m\u001b[0msys\u001b[0m\u001b[1;33m.\u001b[0m\u001b[0mversion_info\u001b[0m\u001b[1;33m[\u001b[0m\u001b[1;36m0\u001b[0m\u001b[1;33m]\u001b[0m\u001b[1;33m<\u001b[0m\u001b[1;36m3\u001b[0m \u001b[1;32mand\u001b[0m \u001b[1;33m(\u001b[0m\u001b[1;32mlambda\u001b[0m \u001b[0mx\u001b[0m\u001b[1;33m:\u001b[0m\u001b[0mx\u001b[0m\u001b[1;33m)\u001b[0m \u001b[1;32mor\u001b[0m \u001b[1;33m(\u001b[0m\u001b[1;32mlambda\u001b[0m \u001b[0mx\u001b[0m\u001b[1;33m:\u001b[0m\u001b[0mx\u001b[0m\u001b[1;33m.\u001b[0m\u001b[0mencode\u001b[0m\u001b[1;33m(\u001b[0m\u001b[1;34m'latin1'\u001b[0m\u001b[1;33m)\u001b[0m\u001b[1;33m)\u001b[0m\u001b[1;33m\u001b[0m\u001b[0m\n\u001b[1;32m----> 3\u001b[1;33m \u001b[1;32mimport\u001b[0m \u001b[0mgoogle3\u001b[0m\u001b[1;33m\u001b[0m\u001b[0m\n\u001b[0m\u001b[0;32m      4\u001b[0m \u001b[1;32mfrom\u001b[0m \u001b[0mgoogle3\u001b[0m\u001b[1;33m.\u001b[0m\u001b[0mnet\u001b[0m\u001b[1;33m.\u001b[0m\u001b[0mproto2\u001b[0m\u001b[1;33m.\u001b[0m\u001b[0mpython\u001b[0m\u001b[1;33m.\u001b[0m\u001b[0mpublic\u001b[0m \u001b[1;32mimport\u001b[0m \u001b[0mdescriptor\u001b[0m \u001b[1;32mas\u001b[0m \u001b[0m_descriptor\u001b[0m\u001b[1;33m\u001b[0m\u001b[0m\n\u001b[0;32m      5\u001b[0m \u001b[1;32mfrom\u001b[0m \u001b[0mgoogle3\u001b[0m\u001b[1;33m.\u001b[0m\u001b[0mnet\u001b[0m\u001b[1;33m.\u001b[0m\u001b[0mproto2\u001b[0m\u001b[1;33m.\u001b[0m\u001b[0mpython\u001b[0m\u001b[1;33m.\u001b[0m\u001b[0mpublic\u001b[0m \u001b[1;32mimport\u001b[0m \u001b[0mmessage\u001b[0m \u001b[1;32mas\u001b[0m \u001b[0m_message\u001b[0m\u001b[1;33m\u001b[0m\u001b[0m\n",
      "\u001b[1;31mImportError\u001b[0m: No module named google3"
     ]
    }
   ],
   "source": [
    "import sys\n",
    "_b=sys.version_info[0]<3 and (lambda x:x) or (lambda x:x.encode('latin1'))\n",
    "import google3\n",
    "from google3.net.proto2.python.public import descriptor as _descriptor\n",
    "from google3.net.proto2.python.public import message as _message\n",
    "from google3.net.proto2.python.public import reflection as _reflection\n",
    "from google3.net.proto2.python.public import symbol_database as _symbol_database\n",
    "from google3.net.proto2.proto import descriptor_pb2\n",
    "import sys"
   ]
  },
  {
   "cell_type": "code",
   "execution_count": 5,
   "metadata": {
    "collapsed": false
   },
   "outputs": [
    {
     "ename": "TypeError",
     "evalue": "unbound method Read() must be called with BetaByteStreamStub instance as first argument (got str instance instead)",
     "output_type": "error",
     "traceback": [
      "\u001b[1;31m---------------------------------------------------------------------------\u001b[0m",
      "\u001b[1;31mTypeError\u001b[0m                                 Traceback (most recent call last)",
      "\u001b[1;32m<ipython-input-5-4caccfd4a4bb>\u001b[0m in \u001b[0;36m<module>\u001b[1;34m()\u001b[0m\n\u001b[0;32m     11\u001b[0m \u001b[1;32mimport\u001b[0m \u001b[0mgcp\u001b[0m\u001b[1;33m.\u001b[0m\u001b[0mspark\u001b[0m\u001b[1;33m.\u001b[0m\u001b[0mbytestream_pb2\u001b[0m\u001b[1;33m\u001b[0m\u001b[0m\n\u001b[0;32m     12\u001b[0m \u001b[1;33m\u001b[0m\u001b[0m\n\u001b[1;32m---> 13\u001b[1;33m \u001b[0mgcp\u001b[0m\u001b[1;33m.\u001b[0m\u001b[0mspark\u001b[0m\u001b[1;33m.\u001b[0m\u001b[0mbytestream_pb2\u001b[0m\u001b[1;33m.\u001b[0m\u001b[0mBetaByteStreamStub\u001b[0m\u001b[1;33m.\u001b[0m\u001b[0mRead\u001b[0m\u001b[1;33m(\u001b[0m\u001b[1;34m\"\"\u001b[0m\u001b[1;33m)\u001b[0m\u001b[1;33m\u001b[0m\u001b[0m\n\u001b[0m",
      "\u001b[1;31mTypeError\u001b[0m: unbound method Read() must be called with BetaByteStreamStub instance as first argument (got str instance instead)"
     ]
    }
   ],
   "source": [
    "#from oauth2client.client import GoogleCredentials\n",
    "\n",
    "#from grpc.beta import implementations\n",
    "\n",
    "#dir()\n",
    "\n",
    "#from google3.google.api import annotations_pb2\n",
    "#from google3.google.protobuf import wrappers_pb2\n",
    "\n",
    "import google.protobuf\n",
    "import gcp.spark.bytestream_pb2\n",
    "\n",
    "gcp.spark.bytestream_pb2.BetaByteStreamStub.Read(\"\")"
   ]
  }
 ],
 "metadata": {
  "kernelspec": {
   "display_name": "Python 2",
   "language": "python",
   "name": "python2"
  },
  "language_info": {
   "codemirror_mode": {
    "name": "ipython",
    "version": 2
   },
   "file_extension": ".py",
   "mimetype": "text/x-python",
   "name": "python",
   "nbconvert_exporter": "python",
   "pygments_lexer": "ipython2",
   "version": "2.7.9"
  }
 },
 "nbformat": 4,
 "nbformat_minor": 0
}
