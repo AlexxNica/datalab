{
 "cells": [
  {
   "cell_type": "code",
   "execution_count": 34,
   "metadata": {
    "collapsed": false
   },
   "outputs": [
    {
     "ename": "ImportError",
     "evalue": "No module named googlecloudsdk.third_party.apitools.base.py",
     "output_type": "error",
     "traceback": [
      "\u001b[1;31m---------------------------------------------------------------------------\u001b[0m",
      "\u001b[1;31mImportError\u001b[0m                               Traceback (most recent call last)",
      "\u001b[1;32m<ipython-input-34-222455f75b0c>\u001b[0m in \u001b[0;36m<module>\u001b[1;34m()\u001b[0m\n\u001b[0;32m      5\u001b[0m \u001b[1;32mimport\u001b[0m \u001b[0mpkgutil\u001b[0m\u001b[1;33m\u001b[0m\u001b[0m\n\u001b[0;32m      6\u001b[0m \u001b[1;33m\u001b[0m\u001b[0m\n\u001b[1;32m----> 7\u001b[1;33m \u001b[1;32mfrom\u001b[0m \u001b[0mgooglecloudsdk\u001b[0m\u001b[1;33m.\u001b[0m\u001b[0mthird_party\u001b[0m\u001b[1;33m.\u001b[0m\u001b[0mapitools\u001b[0m\u001b[1;33m.\u001b[0m\u001b[0mbase\u001b[0m\u001b[1;33m.\u001b[0m\u001b[0mpy\u001b[0m \u001b[1;32mimport\u001b[0m \u001b[1;33m*\u001b[0m\u001b[1;33m\u001b[0m\u001b[0m\n\u001b[0m\u001b[0;32m      8\u001b[0m \u001b[1;32mfrom\u001b[0m \u001b[0mgooglecloudsdk\u001b[0m\u001b[1;33m.\u001b[0m\u001b[0mthird_party\u001b[0m\u001b[1;33m.\u001b[0m\u001b[0mapis\u001b[0m\u001b[1;33m.\u001b[0m\u001b[0mdataproc\u001b[0m\u001b[1;33m.\u001b[0m\u001b[0mv1beta1\u001b[0m\u001b[1;33m.\u001b[0m\u001b[0mdataproc_v1beta1_client\u001b[0m \u001b[1;32mimport\u001b[0m \u001b[1;33m*\u001b[0m\u001b[1;33m\u001b[0m\u001b[0m\n\u001b[0;32m      9\u001b[0m \u001b[1;32mfrom\u001b[0m \u001b[0mgooglecloudsdk\u001b[0m\u001b[1;33m.\u001b[0m\u001b[0mthird_party\u001b[0m\u001b[1;33m.\u001b[0m\u001b[0mapis\u001b[0m\u001b[1;33m.\u001b[0m\u001b[0mdataproc\u001b[0m\u001b[1;33m.\u001b[0m\u001b[0mv1beta1\u001b[0m\u001b[1;33m.\u001b[0m\u001b[0mdataproc_v1beta1_messages\u001b[0m \u001b[1;32mimport\u001b[0m \u001b[1;33m*\u001b[0m\u001b[1;33m\u001b[0m\u001b[0m\n",
      "\u001b[1;31mImportError\u001b[0m: No module named googlecloudsdk.third_party.apitools.base.py"
     ]
    }
   ],
   "source": [
    "# %load __init__.py\n",
    "\"\"\"Common imports for generated dataproc client library.\"\"\"\n",
    "# pylint:disable=wildcard-import\n",
    "\n",
    "import pkgutil\n",
    "\n",
    "from googlecloudsdk.third_party.apitools.base.py import *\n",
    "from googlecloudsdk.third_party.apis.dataproc.v1beta1.dataproc_v1beta1_client import *\n",
    "from googlecloudsdk.third_party.apis.dataproc.v1beta1.dataproc_v1beta1_messages import *\n",
    "\n",
    "__path__ = pkgutil.extend_path(__path__, __name__)\n",
    "\n",
    "import sys"
   ]
  },
  {
   "cell_type": "code",
   "execution_count": 13,
   "metadata": {
    "collapsed": false
   },
   "outputs": [
    {
     "data": {
      "text/plain": [
       "{u'jobs': [{u'driverControlFilesUri': u'gs://dataproc-38815733-337d-4be6-bd75-9fc858a3bf57-us/google-cloud-dataproc-metainfo/9fd31970-869c-49c2-810d-28046920f1d8/jobs/ce66f94b-c442-449a-9299-d903c60f7101/',\n",
       "   u'driverOutputResourceUri': u'gs://dataproc-38815733-337d-4be6-bd75-9fc858a3bf57-us/google-cloud-dataproc-metainfo/9fd31970-869c-49c2-810d-28046920f1d8/jobs/ce66f94b-c442-449a-9299-d903c60f7101/driveroutput',\n",
       "   u'placement': {u'clusterName': u'cluster-1',\n",
       "    u'clusterUuid': u'9fd31970-869c-49c2-810d-28046920f1d8'},\n",
       "   u'reference': {u'jobId': u'ce66f94b-c442-449a-9299-d903c60f7101',\n",
       "    u'projectId': u'datalab-spark'},\n",
       "   u'sparkSqlJob': {u'loggingConfiguration': {},\n",
       "    u'queryList': {u'queries': [u'CREATE TABLE IF NOT EXISTS alekseyv_table (key INT, value STRING);\\nselect * from alekseyv_table;']}},\n",
       "   u'status': {u'state': u'DONE',\n",
       "    u'stateStartTime': u'2015-11-05T20:16:04.218Z'},\n",
       "   u'statusHistory': [{u'state': u'PENDING',\n",
       "     u'stateStartTime': u'2015-11-05T20:15:12.444Z'},\n",
       "    {u'state': u'SETUP_DONE', u'stateStartTime': u'2015-11-05T20:15:12.583Z'},\n",
       "    {u'details': u'Agent reported job success',\n",
       "     u'state': u'RUNNING',\n",
       "     u'stateStartTime': u'2015-11-05T20:15:17.545Z'}]},\n",
       "  {u'driverControlFilesUri': u'gs://dataproc-38815733-337d-4be6-bd75-9fc858a3bf57-us/google-cloud-dataproc-metainfo/9fd31970-869c-49c2-810d-28046920f1d8/jobs/21b10f04-835e-4be9-91d5-94fc7836d71e/',\n",
       "   u'driverOutputResourceUri': u'gs://dataproc-38815733-337d-4be6-bd75-9fc858a3bf57-us/google-cloud-dataproc-metainfo/9fd31970-869c-49c2-810d-28046920f1d8/jobs/21b10f04-835e-4be9-91d5-94fc7836d71e/driveroutput',\n",
       "   u'placement': {u'clusterName': u'cluster-1',\n",
       "    u'clusterUuid': u'9fd31970-869c-49c2-810d-28046920f1d8'},\n",
       "   u'reference': {u'jobId': u'21b10f04-835e-4be9-91d5-94fc7836d71e',\n",
       "    u'projectId': u'datalab-spark'},\n",
       "   u'sparkSqlJob': {u'loggingConfiguration': {},\n",
       "    u'queryList': {u'queries': [u'select * from alekseyv_table']}},\n",
       "   u'status': {u'state': u'ERROR',\n",
       "    u'stateStartTime': u'2015-11-05T20:14:30.495Z'},\n",
       "   u'statusHistory': [{u'state': u'PENDING',\n",
       "     u'stateStartTime': u'2015-11-05T20:13:35.619Z'},\n",
       "    {u'state': u'SETUP_DONE', u'stateStartTime': u'2015-11-05T20:13:35.735Z'},\n",
       "    {u'details': u\"Job failed; details available in 'gs://dataproc-38815733-337d-4be6-bd75-9fc858a3bf57-us/google-cloud-dataproc-metainfo/9fd31970-869c-49c2-810d-28046920f1d8/jobs/21b10f04-835e-4be9-91d5-94fc7836d71e/driveroutput'\",\n",
       "     u'state': u'RUNNING',\n",
       "     u'stateStartTime': u'2015-11-05T20:13:59.545Z'}]},\n",
       "  {u'driverControlFilesUri': u'gs://dataproc-38815733-337d-4be6-bd75-9fc858a3bf57-us/google-cloud-dataproc-metainfo/9fd31970-869c-49c2-810d-28046920f1d8/jobs/2b7730b2-cc3e-4ffb-980b-eade96f3363c/',\n",
       "   u'driverOutputResourceUri': u'gs://dataproc-38815733-337d-4be6-bd75-9fc858a3bf57-us/google-cloud-dataproc-metainfo/9fd31970-869c-49c2-810d-28046920f1d8/jobs/2b7730b2-cc3e-4ffb-980b-eade96f3363c/driveroutput',\n",
       "   u'placement': {u'clusterName': u'cluster-1',\n",
       "    u'clusterUuid': u'9fd31970-869c-49c2-810d-28046920f1d8'},\n",
       "   u'reference': {u'jobId': u'2b7730b2-cc3e-4ffb-980b-eade96f3363c',\n",
       "    u'projectId': u'datalab-spark'},\n",
       "   u'sparkSqlJob': {u'loggingConfiguration': {},\n",
       "    u'queryList': {u'queries': [u'CREATE TABLE IF NOT EXISTS alekseyv_table (key INT, value STRING)']}},\n",
       "   u'status': {u'state': u'DONE',\n",
       "    u'stateStartTime': u'2015-11-05T20:11:45.471Z'},\n",
       "   u'statusHistory': [{u'state': u'PENDING',\n",
       "     u'stateStartTime': u'2015-11-05T20:11:09.343Z'},\n",
       "    {u'state': u'SETUP_DONE', u'stateStartTime': u'2015-11-05T20:11:09.463Z'},\n",
       "    {u'details': u'Agent reported job success',\n",
       "     u'state': u'RUNNING',\n",
       "     u'stateStartTime': u'2015-11-05T20:11:14.388Z'}]},\n",
       "  {u'driverControlFilesUri': u'gs://dataproc-38815733-337d-4be6-bd75-9fc858a3bf57-us/google-cloud-dataproc-metainfo/9fd31970-869c-49c2-810d-28046920f1d8/jobs/1c10dac2-98c1-486a-8a01-131415e6c660/',\n",
       "   u'driverOutputResourceUri': u'gs://dataproc-38815733-337d-4be6-bd75-9fc858a3bf57-us/google-cloud-dataproc-metainfo/9fd31970-869c-49c2-810d-28046920f1d8/jobs/1c10dac2-98c1-486a-8a01-131415e6c660/driveroutput',\n",
       "   u'placement': {u'clusterName': u'cluster-1',\n",
       "    u'clusterUuid': u'9fd31970-869c-49c2-810d-28046920f1d8'},\n",
       "   u'reference': {u'jobId': u'1c10dac2-98c1-486a-8a01-131415e6c660',\n",
       "    u'projectId': u'datalab-spark'},\n",
       "   u'sparkSqlJob': {u'loggingConfiguration': {},\n",
       "    u'queryList': {u'queries': [u\"CREATE TABLE weather (\\n   city            varchar(80),\\n   temp_lo         int,           -- low temperature\\n   temp_hi         int,           -- high temperature\\n   prcp            real,          -- precipitation\\n   date            date\\n);\\nINSERT INTO weather VALUES ('San Francisco', 46, 50, 0.25, '1994-11-27');\\nINSERT INTO weather VALUES ('San Francisco', 43, 57, 0.0, '1994-11-29');\\nINSERT INTO weather VALUES ('Hayward', 54, 37, 0.25, '1994-11-29');\"]}},\n",
       "   u'status': {u'state': u'ERROR',\n",
       "    u'stateStartTime': u'2015-11-05T20:08:07.270Z'},\n",
       "   u'statusHistory': [{u'state': u'PENDING',\n",
       "     u'stateStartTime': u'2015-11-05T20:07:30.759Z'},\n",
       "    {u'state': u'SETUP_DONE', u'stateStartTime': u'2015-11-05T20:07:30.892Z'},\n",
       "    {u'details': u\"Job failed; details available in 'gs://dataproc-38815733-337d-4be6-bd75-9fc858a3bf57-us/google-cloud-dataproc-metainfo/9fd31970-869c-49c2-810d-28046920f1d8/jobs/1c10dac2-98c1-486a-8a01-131415e6c660/driveroutput'\",\n",
       "     u'state': u'RUNNING',\n",
       "     u'stateStartTime': u'2015-11-05T20:07:35.882Z'}]},\n",
       "  {u'driverControlFilesUri': u'gs://dataproc-38815733-337d-4be6-bd75-9fc858a3bf57-us/google-cloud-dataproc-metainfo/9fd31970-869c-49c2-810d-28046920f1d8/jobs/fd53a407-54ab-4610-922a-64448620c62f/',\n",
       "   u'driverOutputResourceUri': u'gs://dataproc-38815733-337d-4be6-bd75-9fc858a3bf57-us/google-cloud-dataproc-metainfo/9fd31970-869c-49c2-810d-28046920f1d8/jobs/fd53a407-54ab-4610-922a-64448620c62f/driveroutput',\n",
       "   u'placement': {u'clusterName': u'cluster-1',\n",
       "    u'clusterUuid': u'9fd31970-869c-49c2-810d-28046920f1d8'},\n",
       "   u'reference': {u'jobId': u'fd53a407-54ab-4610-922a-64448620c62f',\n",
       "    u'projectId': u'datalab-spark'},\n",
       "   u'sparkSqlJob': {u'loggingConfiguration': {},\n",
       "    u'queryList': {u'queries': [u'select 1']}},\n",
       "   u'status': {u'state': u'DONE',\n",
       "    u'stateStartTime': u'2015-11-05T20:03:47.240Z'},\n",
       "   u'statusHistory': [{u'state': u'PENDING',\n",
       "     u'stateStartTime': u'2015-11-05T20:03:10.796Z'},\n",
       "    {u'state': u'SETUP_DONE', u'stateStartTime': u'2015-11-05T20:03:10.921Z'},\n",
       "    {u'details': u'Agent reported job success',\n",
       "     u'state': u'RUNNING',\n",
       "     u'stateStartTime': u'2015-11-05T20:03:16.051Z'}]},\n",
       "  {u'driverControlFilesUri': u'gs://dataproc-38815733-337d-4be6-bd75-9fc858a3bf57-us/google-cloud-dataproc-metainfo/9fd31970-869c-49c2-810d-28046920f1d8/jobs/b1f0efa9-dc15-4487-bc45-e9912e580214/',\n",
       "   u'driverOutputResourceUri': u'gs://dataproc-38815733-337d-4be6-bd75-9fc858a3bf57-us/google-cloud-dataproc-metainfo/9fd31970-869c-49c2-810d-28046920f1d8/jobs/b1f0efa9-dc15-4487-bc45-e9912e580214/driveroutput',\n",
       "   u'placement': {u'clusterName': u'cluster-1',\n",
       "    u'clusterUuid': u'9fd31970-869c-49c2-810d-28046920f1d8'},\n",
       "   u'reference': {u'jobId': u'b1f0efa9-dc15-4487-bc45-e9912e580214',\n",
       "    u'projectId': u'datalab-spark'},\n",
       "   u'sparkJob': {u'args': [u'1000'],\n",
       "    u'jarFileUris': [u'file:///usr/lib/spark/lib/spark-examples.jar'],\n",
       "    u'loggingConfiguration': {},\n",
       "    u'mainClass': u'org.apache.spark.examples.SparkPi'},\n",
       "   u'status': {u'state': u'DONE',\n",
       "    u'stateStartTime': u'2015-10-02T00:17:02.832Z'},\n",
       "   u'statusHistory': [{u'state': u'PENDING',\n",
       "     u'stateStartTime': u'2015-10-02T00:16:15.693Z'},\n",
       "    {u'state': u'SETUP_DONE', u'stateStartTime': u'2015-10-02T00:16:15.837Z'},\n",
       "    {u'details': u'Agent reported job success',\n",
       "     u'state': u'RUNNING',\n",
       "     u'stateStartTime': u'2015-10-02T00:16:20.852Z'}]},\n",
       "  {u'driverControlFilesUri': u'gs://dataproc-38815733-337d-4be6-bd75-9fc858a3bf57-us/google-cloud-dataproc-metainfo/9fd31970-869c-49c2-810d-28046920f1d8/jobs/5b0d9360-a069-4044-a1fc-7601111d4f00/',\n",
       "   u'driverOutputResourceUri': u'gs://dataproc-38815733-337d-4be6-bd75-9fc858a3bf57-us/google-cloud-dataproc-metainfo/9fd31970-869c-49c2-810d-28046920f1d8/jobs/5b0d9360-a069-4044-a1fc-7601111d4f00/driveroutput',\n",
       "   u'placement': {u'clusterName': u'cluster-1',\n",
       "    u'clusterUuid': u'9fd31970-869c-49c2-810d-28046920f1d8'},\n",
       "   u'pysparkJob': {u'loggingConfiguration': {},\n",
       "    u'mainPythonFileUri': u'gs://dataproc-38815733-337d-4be6-bd75-9fc858a3bf57-us/google-cloud-dataproc-staging/9fd31970-869c-49c2-810d-28046920f1d8/hello-world.py'},\n",
       "   u'reference': {u'jobId': u'5b0d9360-a069-4044-a1fc-7601111d4f00',\n",
       "    u'projectId': u'datalab-spark'},\n",
       "   u'status': {u'state': u'DONE',\n",
       "    u'stateStartTime': u'2015-10-02T00:14:27.968Z'},\n",
       "   u'statusHistory': [{u'state': u'PENDING',\n",
       "     u'stateStartTime': u'2015-10-02T00:13:44.436Z'},\n",
       "    {u'state': u'SETUP_DONE', u'stateStartTime': u'2015-10-02T00:13:44.604Z'},\n",
       "    {u'details': u'Agent reported job success',\n",
       "     u'state': u'RUNNING',\n",
       "     u'stateStartTime': u'2015-10-02T00:13:49.799Z'}]}]}"
      ]
     },
     "execution_count": 13,
     "metadata": {},
     "output_type": "execute_result"
    }
   ],
   "source": [
    "\n",
    "import gcp\n",
    "import gcp._context\n",
    "import gcp._util\n",
    "#import googlecloudsdk.third_party.apis.dataproc.v1beta1.dataproc_v1beta1_client\n",
    "\n",
    "def jobs_list(context):\n",
    "    url = 'https://dataproc.googleapis.com/v1beta1/projects/' + context.project_id + '/jobs/'\n",
    "    \n",
    "    return gcp._util.Http.request(url, '', credentials=context.credentials)\n",
    "  \n",
    "def jobs_submit(context):\n",
    "    url = 'https://dataproc.googleapis.com/v1beta1/projects/' + context.project_id + '/jobs:submit'\n",
    "    \n",
    "    return gcp._util.Http.request(url, '', credentials=context.credentials)  \n",
    "  \n",
    "_ENDPOINT = 'https://dataproc.googleapis.com/v1beta1'\n",
    "_JOBS_PATH = '/projects/%s/jobs/%s'\n",
    "  \n",
    "def jobs_get(job_id, context):\n",
    "  \"\"\"Issues a request to retrieve information about a job.\n",
    "  Args:\n",
    "    job_id: the id of the job\n",
    "    project_id: the project id to use to fetch the results; use None for the default project.\n",
    "  Returns:\n",
    "    A parsed result object.\n",
    "  Raises:\n",
    "    Exception if there is an error performing the operation.\n",
    "  \"\"\"\n",
    "  #url = _ENDPOINT + (_JOBS_PATH % (context.project_id, job_id))\n",
    "  #url = 'https://dataproc.googleapis.com/v1beta1/projects/' + context.project_id + '/jobs' + job_id\n",
    "  url = 'https://dataproc.googleapis.com/v1beta1/projects/'+ context.project_id + '/jobs/' + job_id\n",
    "  return gcp._util.Http.request(url, '', credentials=context.credentials)  \n",
    "\n",
    "jobs_list(gcp.Context.default())\n",
    "#jobs_get('ce66f94b-c442-449a-9299-d903c60f7101', gcp.Context.default())"
   ]
  },
  {
   "cell_type": "code",
   "execution_count": 38,
   "metadata": {
    "collapsed": false
   },
   "outputs": [
    {
     "ename": "ImportError",
     "evalue": "No module named google.appengine.ext.webapp.util",
     "output_type": "error",
     "traceback": [
      "\u001b[1;31m---------------------------------------------------------------------------\u001b[0m",
      "\u001b[1;31mImportError\u001b[0m                               Traceback (most recent call last)",
      "\u001b[1;32m<ipython-input-38-1b61f182efeb>\u001b[0m in \u001b[0;36m<module>\u001b[1;34m()\u001b[0m\n\u001b[0;32m      6\u001b[0m \u001b[1;31m#sys.path\u001b[0m\u001b[1;33m\u001b[0m\u001b[1;33m\u001b[0m\u001b[0m\n\u001b[0;32m      7\u001b[0m \u001b[1;31m#import googlecloudsdk.third_party.apis.dataproc.v1beta1.dataproc_v1beta1_client\u001b[0m\u001b[1;33m\u001b[0m\u001b[1;33m\u001b[0m\u001b[0m\n\u001b[1;32m----> 8\u001b[1;33m \u001b[1;32mfrom\u001b[0m \u001b[0mgoogle\u001b[0m\u001b[1;33m.\u001b[0m\u001b[0mappengine\u001b[0m\u001b[1;33m.\u001b[0m\u001b[0mext\u001b[0m\u001b[1;33m.\u001b[0m\u001b[0mwebapp\u001b[0m\u001b[1;33m.\u001b[0m\u001b[0mutil\u001b[0m \u001b[1;32mimport\u001b[0m \u001b[0mrun_wsgi_app\u001b[0m\u001b[1;33m\u001b[0m\u001b[0m\n\u001b[0m",
      "\u001b[1;31mImportError\u001b[0m: No module named google.appengine.ext.webapp.util"
     ]
    }
   ],
   "source": [
    "import sys\n",
    "import os\n",
    "#sys.path\n",
    "#os.getcwd()\n",
    "#sys.path.append(os.getcwd())\n",
    "#sys.path\n",
    "#import googlecloudsdk.third_party.apis.dataproc.v1beta1.dataproc_v1beta1_client\n",
    "from google.appengine.ext.webapp.util import run_wsgi_app"
   ]
  },
  {
   "cell_type": "code",
   "execution_count": 1,
   "metadata": {
    "collapsed": true
   },
   "outputs": [],
   "source": [
    "import gcp.spark"
   ]
  }
 ],
 "metadata": {
  "kernelspec": {
   "display_name": "Python 2",
   "language": "python",
   "name": "python2"
  },
  "language_info": {
   "codemirror_mode": {
    "name": "ipython",
    "version": 2
   },
   "file_extension": ".py",
   "mimetype": "text/x-python",
   "name": "python",
   "nbconvert_exporter": "python",
   "pygments_lexer": "ipython2",
   "version": "2.7.9"
  }
 },
 "nbformat": 4,
 "nbformat_minor": 0
}
