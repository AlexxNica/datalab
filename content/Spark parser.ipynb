{
 "cells": [
  {
   "cell_type": "code",
   "execution_count": 1,
   "metadata": {
    "collapsed": false
   },
   "outputs": [
    {
     "ename": "ImportError",
     "evalue": "No module named Clusters",
     "output_type": "error",
     "traceback": [
      "\u001b[1;31m---------------------------------------------------------------------------\u001b[0m",
      "\u001b[1;31mImportError\u001b[0m                               Traceback (most recent call last)",
      "\u001b[1;32m<ipython-input-1-494706fd2fec>\u001b[0m in \u001b[0;36m<module>\u001b[1;34m()\u001b[0m\n\u001b[0;32m      1\u001b[0m \u001b[1;32mimport\u001b[0m \u001b[0mgcp\u001b[0m\u001b[1;33m.\u001b[0m\u001b[0mstorage\u001b[0m\u001b[1;33m\u001b[0m\u001b[0m\n\u001b[1;32m----> 2\u001b[1;33m \u001b[1;32mimport\u001b[0m \u001b[0mgcp\u001b[0m\u001b[1;33m.\u001b[0m\u001b[0mdatalab\u001b[0m\u001b[1;33m.\u001b[0m\u001b[0m_commands\u001b[0m \u001b[1;32mas\u001b[0m \u001b[0m_commands\u001b[0m\u001b[1;33m\u001b[0m\u001b[0m\n\u001b[0m\u001b[0;32m      3\u001b[0m \u001b[1;33m\u001b[0m\u001b[0m\n\u001b[0;32m      4\u001b[0m \u001b[1;32mdef\u001b[0m \u001b[0m_storage_create\u001b[0m\u001b[1;33m(\u001b[0m\u001b[0margs\u001b[0m\u001b[1;33m,\u001b[0m \u001b[0m_\u001b[0m\u001b[1;33m)\u001b[0m\u001b[1;33m:\u001b[0m\u001b[1;33m\u001b[0m\u001b[0m\n\u001b[0;32m      5\u001b[0m   \u001b[1;34m\"\"\" Create one or more buckets. \"\"\"\u001b[0m\u001b[1;33m\u001b[0m\u001b[0m\n",
      "\u001b[1;32m/usr/local/lib/python2.7/dist-packages/gcp/datalab/__init__.py\u001b[0m in \u001b[0;36m<module>\u001b[1;34m()\u001b[0m\n\u001b[0;32m     26\u001b[0m \u001b[1;32mimport\u001b[0m \u001b[0m_bigquery\u001b[0m\u001b[1;33m\u001b[0m\u001b[0m\n\u001b[0;32m     27\u001b[0m \u001b[1;32mimport\u001b[0m \u001b[0m_chart\u001b[0m\u001b[1;33m\u001b[0m\u001b[0m\n\u001b[1;32m---> 28\u001b[1;33m \u001b[1;32mimport\u001b[0m \u001b[0m_dataproc\u001b[0m\u001b[1;33m\u001b[0m\u001b[0m\n\u001b[0m\u001b[0;32m     29\u001b[0m \u001b[1;32mimport\u001b[0m \u001b[0m_extension\u001b[0m\u001b[1;33m\u001b[0m\u001b[0m\n\u001b[0;32m     30\u001b[0m \u001b[1;32mimport\u001b[0m \u001b[0m_modules\u001b[0m\u001b[1;33m\u001b[0m\u001b[0m\n",
      "\u001b[1;32m/usr/local/lib/python2.7/dist-packages/gcp/datalab/_dataproc.py\u001b[0m in \u001b[0;36m<module>\u001b[1;34m()\u001b[0m\n\u001b[0;32m     16\u001b[0m \u001b[1;32mimport\u001b[0m \u001b[0mre\u001b[0m\u001b[1;33m\u001b[0m\u001b[0m\n\u001b[0;32m     17\u001b[0m \u001b[1;33m\u001b[0m\u001b[0m\n\u001b[1;32m---> 18\u001b[1;33m \u001b[1;32mimport\u001b[0m \u001b[0mgcp\u001b[0m\u001b[1;33m.\u001b[0m\u001b[0mdataproc\u001b[0m\u001b[1;33m.\u001b[0m\u001b[0mclusters\u001b[0m\u001b[1;33m.\u001b[0m\u001b[0mClusters\u001b[0m \u001b[1;32mas\u001b[0m \u001b[0mClusters\u001b[0m\u001b[1;33m\u001b[0m\u001b[0m\n\u001b[0m\u001b[0;32m     19\u001b[0m \u001b[1;32mimport\u001b[0m \u001b[0m_commands\u001b[0m\u001b[1;33m\u001b[0m\u001b[0m\n\u001b[0;32m     20\u001b[0m \u001b[1;32mimport\u001b[0m \u001b[0m_html\u001b[0m\u001b[1;33m\u001b[0m\u001b[0m\n",
      "\u001b[1;31mImportError\u001b[0m: No module named Clusters"
     ]
    }
   ],
   "source": [
    "import gcp.storage\n",
    "import gcp.datalab._commands as _commands\n",
    "\n",
    "def _storage_create(args, _):\n",
    "  \"\"\" Create one or more buckets. \"\"\"\n",
    "  print \"\\n\\n\"\n",
    "  print args\n",
    "\n",
    "parser = _commands.CommandParser(prog='storage', description=\"\"\"\n",
    "Execute various storage-related operations. Use \"%storage <command> -h\"\n",
    "for help on a specific command.\n",
    "\"\"\")\n",
    "  \n",
    "create_parser = parser.subcommand('create', 'Create one or more GCS buckets.')\n",
    "#create_parser.add_argument('-p', '--project', help='The project associated with the objects')\n",
    "#create_parser.add_argument('-b', '--bucket', help='The name of the bucket(s) to create',\n",
    "#                           nargs='+')\n",
    "create_parser_sub = create_parser.subcommand('subcreate', 'Sub buckets.')\n",
    "create_parser_sub.add_argument('-subp', help='The project associated with the objects')\n",
    "create_parser_sub.set_defaults(func=_storage_create)\n",
    "\n",
    "\n",
    "args = parser.parse(\"create subcreate -subp gs://cloud-datalab-samples\")\n",
    "args.func(vars(args), None)"
   ]
  },
  {
   "cell_type": "code",
   "execution_count": 1,
   "metadata": {
    "collapsed": false
   },
   "outputs": [
    {
     "name": "stdout",
     "output_type": "stream",
     "text": [
      "dataproc list clusters, project:None\n"
     ]
    },
    {
     "data": {
      "text/plain": [
       "[Cluster alekseyv-interact]"
      ]
     },
     "execution_count": 1,
     "metadata": {},
     "output_type": "execute_result"
    }
   ],
   "source": [
    "%%dataproc clusters list"
   ]
  },
  {
   "cell_type": "code",
   "execution_count": 24,
   "metadata": {
    "collapsed": false
   },
   "outputs": [
    {
     "ename": "RequestException",
     "evalue": "HTTP request failed",
     "output_type": "error",
     "traceback": [
      "\u001b[1;31m---------------------------------------------------------------------------\u001b[0m",
      "\u001b[1;31mRequestException\u001b[0m                          Traceback (most recent call last)",
      "\u001b[1;32m<ipython-input-24-ebd855636737>\u001b[0m in \u001b[0;36m<module>\u001b[1;34m()\u001b[0m\n\u001b[0;32m     46\u001b[0m \u001b[1;33m\u001b[0m\u001b[0m\n\u001b[0;32m     47\u001b[0m \u001b[1;31m#clusters.list()\u001b[0m\u001b[1;33m\u001b[0m\u001b[1;33m\u001b[0m\u001b[0m\n\u001b[1;32m---> 48\u001b[1;33m \u001b[0mcluster\u001b[0m\u001b[1;33m.\u001b[0m\u001b[0mmetadata\u001b[0m\u001b[1;33m(\u001b[0m\u001b[1;33m)\u001b[0m\u001b[1;33m\u001b[0m\u001b[0m\n\u001b[0m",
      "\u001b[1;32m/usr/local/lib/python2.7/dist-packages/gcp/dataproc/clusters/_cluster.pyc\u001b[0m in \u001b[0;36mmetadata\u001b[1;34m(self)\u001b[0m\n\u001b[0;32m    114\u001b[0m         \u001b[0mself\u001b[0m\u001b[1;33m.\u001b[0m\u001b[0m_info\u001b[0m \u001b[1;33m=\u001b[0m \u001b[0mself\u001b[0m\u001b[1;33m.\u001b[0m\u001b[0m_api\u001b[0m\u001b[1;33m.\u001b[0m\u001b[0mclusters_get\u001b[0m\u001b[1;33m(\u001b[0m\u001b[0mself\u001b[0m\u001b[1;33m.\u001b[0m\u001b[0m_name\u001b[0m\u001b[1;33m)\u001b[0m\u001b[1;33m\u001b[0m\u001b[0m\n\u001b[0;32m    115\u001b[0m       \u001b[1;32mexcept\u001b[0m \u001b[0mException\u001b[0m \u001b[1;32mas\u001b[0m \u001b[0me\u001b[0m\u001b[1;33m:\u001b[0m\u001b[1;33m\u001b[0m\u001b[0m\n\u001b[1;32m--> 116\u001b[1;33m         \u001b[1;32mraise\u001b[0m \u001b[0me\u001b[0m\u001b[1;33m\u001b[0m\u001b[0m\n\u001b[0m\u001b[0;32m    117\u001b[0m \u001b[1;33m\u001b[0m\u001b[0m\n\u001b[0;32m    118\u001b[0m     \u001b[1;32mreturn\u001b[0m \u001b[0mClusterMetadata\u001b[0m\u001b[1;33m(\u001b[0m\u001b[0mself\u001b[0m\u001b[1;33m.\u001b[0m\u001b[0m_info\u001b[0m\u001b[1;33m)\u001b[0m \u001b[1;32mif\u001b[0m \u001b[0mself\u001b[0m\u001b[1;33m.\u001b[0m\u001b[0m_info\u001b[0m \u001b[1;32melse\u001b[0m \u001b[0mNone\u001b[0m\u001b[1;33m\u001b[0m\u001b[0m\n",
      "\u001b[1;31mRequestException\u001b[0m: HTTP request failed"
     ]
    }
   ],
   "source": [
    "import gcp.storage\n",
    "import gcp.dataproc._api\n",
    "import gcp.dataproc.clusters._cluster\n",
    "\n",
    "\n",
    "_api = gcp.dataproc._api.Api(gcp.Context.default())\n",
    "\n",
    "clusters = gcp.dataproc.clusters.Clusters()\n",
    "clusters.list()\n",
    "\n",
    "\n",
    "def list_test():\n",
    "  try:\n",
    "    list_info = _api.clusters_list()\n",
    "  except Exception as e:\n",
    "    raise e\n",
    "\n",
    "  clusters = []\n",
    "  cluster_infos = list_info.get('clusters', [])\n",
    "  if len(cluster_infos):\n",
    "    try:\n",
    "      clusters = [gcp.dataproc.clusters._cluster.Cluster(info['clusterName'], info, context=gcp.Context.default()) for info in cluster_infos]\n",
    "    except KeyError:\n",
    "      raise Exception('Unexpected response from server')\n",
    "\n",
    "  return clusters\n",
    "\n",
    "#list_info = _api.clusters_list()\n",
    "#items = list_info.get('clusters', [])\n",
    "#items[0]['clusterName']\n",
    "#[info['clusterName'] for info in list_info]\n",
    "\n",
    "#clusters.create(\"cluster2\", \"us-central1-f\")\n",
    "#_api.clusters_list()\n",
    "#clusters.list()\n",
    "\"\"\"\n",
    "import gcp._util._http\n",
    "try:\n",
    "  _api.clusters_insert(\"cluster2\", \"us-central1-f\", \"datalab-spark\")\n",
    "except gcp._util._http.RequestException as ex:\n",
    "  print ex.content\n",
    "\"\"\"\n",
    "\n",
    "cluster = gcp.dataproc.clusters.Cluster(\"alekseyv-interact\")\n",
    "#cluster.delete()\n",
    "\n",
    "#clusters.list()\n",
    "cluster.metadata()"
   ]
  }
 ],
 "metadata": {
  "kernelspec": {
   "display_name": "Python 2",
   "language": "python",
   "name": "python2"
  },
  "language_info": {
   "codemirror_mode": {
    "name": "ipython",
    "version": 2
   },
   "file_extension": ".py",
   "mimetype": "text/x-python",
   "name": "python",
   "nbconvert_exporter": "python",
   "pygments_lexer": "ipython2",
   "version": "2.7.9"
  }
 },
 "nbformat": 4,
 "nbformat_minor": 0
}
