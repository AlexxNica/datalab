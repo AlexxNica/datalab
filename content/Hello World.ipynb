{
 "cells": [
  {
   "cell_type": "markdown",
   "metadata": {},
   "source": [
    "# Untitled Notebook\n",
    "\n",
    "This is an initial placeholder notebook. Feel free to edit and rename as well as create your own notebooks, to use Google Cloud Datalab."
   ]
  },
  {
   "cell_type": "code",
   "execution_count": 89,
   "metadata": {
    "collapsed": false
   },
   "outputs": [
    {
     "data": {
      "text/plain": [
       "'/projects/%s/jobs/%'"
      ]
     },
     "execution_count": 89,
     "metadata": {},
     "output_type": "execute_result"
    }
   ],
   "source": [
    "import gcp._context\n",
    "import gcp.bigquery as bq\n",
    "import gcp.bigquery._job as bqj\n",
    "import gcp.bigquery._query_job\n",
    "\n",
    "import json\n",
    "\n",
    "spark_job_data = {\n",
    "      'sparkJob': {\n",
    "          \"mainClass\": \"abc\"\n",
    "        }\n",
    "      }\n",
    "\n",
    "\n",
    "data = {\n",
    "    \"projectId\": \"self._project_id\",\n",
    "    \"job\": {\n",
    "        \"placement\": {\n",
    "            \"clusterName\": \"cluster_name\"\n",
    "            },\n",
    "        \"reference\": {\n",
    "            \"jobId\": \"uuid.uuid4().hex\"\n",
    "            }\n",
    "    }\n",
    "   }\n",
    "\n",
    "for k,v in spark_job_data.iteritems():\n",
    "  data['job'][k] = v\n",
    "\n",
    "#q = bq.Query('SELECT * FROM [cloud-datalab-samples:httplogs.logs_20140615] LIMIT 3')\n",
    "#job = q.execute_async()\n",
    "\n",
    "\n",
    "\n",
    "#myJob = gcp.bigquery._query_job.QueryJob(\"job_qVnwUwNvu3HazvHAMeZYxJPr3To\", 'cloud-datalab-samples:httplogs.logs_20140615','SELECT * FROM [cloud-datalab-samples:httplogs.logs_20140615] LIMIT 3', gcp.Context.default())\n",
    "#import gcp.bigquery._job\n",
    "#myJob.result()\n",
    "#myJob._refresh_state()\n",
    "#myJob.is_complete\n",
    "#job.id\n",
    "\n",
    "#gcp.Context.default().project_id\n",
    "\n",
    "\n",
    "#data\n",
    "_JOBS_PATH = '/projects/%s/jobs/%s'\n",
    "_JOBS_PATH[:-1]"
   ]
  },
  {
   "cell_type": "code",
   "execution_count": 74,
   "metadata": {
    "collapsed": false
   },
   "outputs": [
    {
     "ename": "RequestException",
     "evalue": "HTTP request failed",
     "output_type": "error",
     "traceback": [
      "\u001b[1;31m---------------------------------------------------------------------------\u001b[0m",
      "\u001b[1;31mRequestException\u001b[0m                          Traceback (most recent call last)",
      "\u001b[1;32m<ipython-input-74-9a0ba5f3d3a2>\u001b[0m in \u001b[0;36m<module>\u001b[1;34m()\u001b[0m\n\u001b[0;32m     18\u001b[0m   \u001b[1;32mreturn\u001b[0m \u001b[0mgcp\u001b[0m\u001b[1;33m.\u001b[0m\u001b[0m_util\u001b[0m\u001b[1;33m.\u001b[0m\u001b[0mHttp\u001b[0m\u001b[1;33m.\u001b[0m\u001b[0mrequest\u001b[0m\u001b[1;33m(\u001b[0m\u001b[0murl\u001b[0m\u001b[1;33m,\u001b[0m \u001b[0mcredentials\u001b[0m\u001b[1;33m=\u001b[0m\u001b[0mgcp\u001b[0m\u001b[1;33m.\u001b[0m\u001b[0mContext\u001b[0m\u001b[1;33m.\u001b[0m\u001b[0mdefault\u001b[0m\u001b[1;33m(\u001b[0m\u001b[1;33m)\u001b[0m\u001b[1;33m.\u001b[0m\u001b[0m_credentials\u001b[0m\u001b[1;33m)\u001b[0m\u001b[1;33m\u001b[0m\u001b[0m\n\u001b[0;32m     19\u001b[0m \u001b[1;33m\u001b[0m\u001b[0m\n\u001b[1;32m---> 20\u001b[1;33m \u001b[0mjobs_get\u001b[0m\u001b[1;33m(\u001b[0m\u001b[1;34m'job_WR-tF1oVSVanxxjZ6wDGAOYLWlI'\u001b[0m\u001b[1;33m,\u001b[0m \u001b[0mgcp\u001b[0m\u001b[1;33m.\u001b[0m\u001b[0mContext\u001b[0m\u001b[1;33m.\u001b[0m\u001b[0mdefault\u001b[0m\u001b[1;33m(\u001b[0m\u001b[1;33m)\u001b[0m\u001b[1;33m.\u001b[0m\u001b[0mproject_id\u001b[0m\u001b[1;33m)\u001b[0m\u001b[1;33m\u001b[0m\u001b[0m\n\u001b[0m\u001b[0;32m     21\u001b[0m \u001b[1;33m\u001b[0m\u001b[0m\n\u001b[0;32m     22\u001b[0m \u001b[1;33m\u001b[0m\u001b[0m\n",
      "\u001b[1;32m<ipython-input-74-9a0ba5f3d3a2>\u001b[0m in \u001b[0;36mjobs_get\u001b[1;34m(job_id, project_id)\u001b[0m\n\u001b[0;32m     16\u001b[0m   \"\"\"\n\u001b[0;32m     17\u001b[0m   \u001b[0murl\u001b[0m \u001b[1;33m=\u001b[0m \u001b[0m_ENDPOINT\u001b[0m \u001b[1;33m+\u001b[0m \u001b[1;33m(\u001b[0m\u001b[0m_JOBS_PATH\u001b[0m \u001b[1;33m%\u001b[0m \u001b[1;33m(\u001b[0m\u001b[0mproject_id\u001b[0m\u001b[1;33m,\u001b[0m \u001b[0mjob_id\u001b[0m\u001b[1;33m)\u001b[0m\u001b[1;33m)\u001b[0m\u001b[1;33m\u001b[0m\u001b[0m\n\u001b[1;32m---> 18\u001b[1;33m   \u001b[1;32mreturn\u001b[0m \u001b[0mgcp\u001b[0m\u001b[1;33m.\u001b[0m\u001b[0m_util\u001b[0m\u001b[1;33m.\u001b[0m\u001b[0mHttp\u001b[0m\u001b[1;33m.\u001b[0m\u001b[0mrequest\u001b[0m\u001b[1;33m(\u001b[0m\u001b[0murl\u001b[0m\u001b[1;33m,\u001b[0m \u001b[0mcredentials\u001b[0m\u001b[1;33m=\u001b[0m\u001b[0mgcp\u001b[0m\u001b[1;33m.\u001b[0m\u001b[0mContext\u001b[0m\u001b[1;33m.\u001b[0m\u001b[0mdefault\u001b[0m\u001b[1;33m(\u001b[0m\u001b[1;33m)\u001b[0m\u001b[1;33m.\u001b[0m\u001b[0m_credentials\u001b[0m\u001b[1;33m)\u001b[0m\u001b[1;33m\u001b[0m\u001b[0m\n\u001b[0m\u001b[0;32m     19\u001b[0m \u001b[1;33m\u001b[0m\u001b[0m\n\u001b[0;32m     20\u001b[0m \u001b[0mjobs_get\u001b[0m\u001b[1;33m(\u001b[0m\u001b[1;34m'job_WR-tF1oVSVanxxjZ6wDGAOYLWlI'\u001b[0m\u001b[1;33m,\u001b[0m \u001b[0mgcp\u001b[0m\u001b[1;33m.\u001b[0m\u001b[0mContext\u001b[0m\u001b[1;33m.\u001b[0m\u001b[0mdefault\u001b[0m\u001b[1;33m(\u001b[0m\u001b[1;33m)\u001b[0m\u001b[1;33m.\u001b[0m\u001b[0mproject_id\u001b[0m\u001b[1;33m)\u001b[0m\u001b[1;33m\u001b[0m\u001b[0m\n",
      "\u001b[1;32m/usr/local/lib/python2.7/dist-packages/gcp/_util/_http.pyc\u001b[0m in \u001b[0;36mrequest\u001b[1;34m(url, args, data, headers, method, credentials, raw_response)\u001b[0m\n\u001b[0;32m    119\u001b[0m         \u001b[1;32mreturn\u001b[0m \u001b[0mjson\u001b[0m\u001b[1;33m.\u001b[0m\u001b[0mloads\u001b[0m\u001b[1;33m(\u001b[0m\u001b[0mcontent\u001b[0m\u001b[1;33m)\u001b[0m\u001b[1;33m\u001b[0m\u001b[0m\n\u001b[0;32m    120\u001b[0m       \u001b[1;32melse\u001b[0m\u001b[1;33m:\u001b[0m\u001b[1;33m\u001b[0m\u001b[0m\n\u001b[1;32m--> 121\u001b[1;33m         \u001b[1;32mraise\u001b[0m \u001b[0mRequestException\u001b[0m\u001b[1;33m(\u001b[0m\u001b[0mresponse\u001b[0m\u001b[1;33m.\u001b[0m\u001b[0mstatus\u001b[0m\u001b[1;33m,\u001b[0m \u001b[0mcontent\u001b[0m\u001b[1;33m)\u001b[0m\u001b[1;33m\u001b[0m\u001b[0m\n\u001b[0m\u001b[0;32m    122\u001b[0m     \u001b[1;32mexcept\u001b[0m \u001b[0mValueError\u001b[0m\u001b[1;33m:\u001b[0m\u001b[1;33m\u001b[0m\u001b[0m\n\u001b[0;32m    123\u001b[0m       \u001b[1;32mraise\u001b[0m \u001b[0mException\u001b[0m\u001b[1;33m(\u001b[0m\u001b[1;34m'Failed to process HTTP response.'\u001b[0m\u001b[1;33m)\u001b[0m\u001b[1;33m\u001b[0m\u001b[0m\n",
      "\u001b[1;31mRequestException\u001b[0m: HTTP request failed"
     ]
    }
   ],
   "source": [
    "import gcp._context\n",
    "import gcp\n",
    "\n",
    "https://dataproc.googleapis.com/v1beta1/projects/datalab-spark/jobs/job_WR-tF1oVSVanxxjZ6wDGAOYLWlI\n",
    "  \n",
    "_ENDPOINT = 'https://dataproc.googleapis.com/v1beta1'\n",
    "_JOBS_PATH = '/projects/%s/jobs/%s'\n",
    "  \n",
    "def jobs_get(job_id, project_id=None):\n",
    "  \"\"\"Issues a request to retrieve information about a job.\n",
    "  Args:\n",
    "    job_id: the id of the job\n",
    "    project_id: the project id to use to fetch the results; use None for the default project.\n",
    "  Returns:\n",
    "    A parsed result object.\n",
    "  Raises:\n",
    "    Exception if there is an error performing the operation.\n",
    "  \"\"\"\n",
    "  url = _ENDPOINT + (_JOBS_PATH % (project_id, job_id))\n",
    "  return gcp._util.Http.request(url, credentials=gcp.Context.default()._credentials)\n",
    "  \n",
    "jobs_get('job_WR-tF1oVSVanxxjZ6wDGAOYLWlI', gcp.Context.default().project_id)\n",
    "  \n",
    "  "
   ]
  },
  {
   "cell_type": "code",
   "execution_count": null,
   "metadata": {
    "collapsed": false
   },
   "outputs": [],
   "source": [
    "# Code cell ready to be run...\n",
    "print 'Hello!'"
   ]
  },
  {
   "cell_type": "code",
   "execution_count": 2,
   "metadata": {
    "collapsed": false
   },
   "outputs": [
    {
     "name": "stdout",
     "output_type": "stream",
     "text": [
      "line m\n"
     ]
    },
    {
     "data": {
      "text/plain": [
       "u\"'hello'\""
      ]
     },
     "execution_count": 2,
     "metadata": {},
     "output_type": "execute_result"
    }
   ],
   "source": [
    "from IPython.core.magic import (register_line_magic, register_cell_magic,\n",
    "                                register_line_cell_magic)\n",
    "\n",
    "@register_line_magic\n",
    "def lmagic(line):\n",
    "    \"my line magic\"\n",
    "    print (\"line m\")\n",
    "    return line\n",
    "\n",
    "@register_cell_magic\n",
    "def cmagic(line, cell):\n",
    "    \"my cell magic\"\n",
    "    return line, cell\n",
    "\n",
    "@register_line_cell_magic\n",
    "def lcmagic(line, cell=None):\n",
    "    \"Magic that works both as %lcmagic and as %%lcmagic\"\n",
    "    if cell is None:\n",
    "        print(\"Called as line magic\")\n",
    "        return line\n",
    "    else:\n",
    "        print(\"Called as cell magic\")\n",
    "        return line, cell\n",
    "\n",
    "# We delete these to avoid name conflicts for automagic to work\n",
    "del lmagic, lcmagic\n",
    "\n",
    "%lmagic 'hello'"
   ]
  },
  {
   "cell_type": "code",
   "execution_count": 3,
   "metadata": {
    "collapsed": false
   },
   "outputs": [
    {
     "data": {
      "text/plain": [
       "(u'', u'\\nsql ')"
      ]
     },
     "execution_count": 3,
     "metadata": {},
     "output_type": "execute_result"
    }
   ],
   "source": [
    "%%cmagic\n",
    "\n",
    "sql "
   ]
  }
 ],
 "metadata": {
  "kernelspec": {
   "display_name": "Python 2",
   "language": "python",
   "name": "python2"
  },
  "language_info": {
   "codemirror_mode": {
    "name": "ipython",
    "version": 2
   },
   "file_extension": ".py",
   "mimetype": "text/x-python",
   "name": "python",
   "nbconvert_exporter": "python",
   "pygments_lexer": "ipython2",
   "version": "2.7.9"
  }
 },
 "nbformat": 4,
 "nbformat_minor": 0
}
