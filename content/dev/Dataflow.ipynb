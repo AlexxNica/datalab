{
 "metadata": {
  "name": "",
  "signature": "sha256:38650c2d59cb0d205028bf8fdd90107f0c3eb4f6a7bf73cc81d3f761a5f26d5b"
 },
 "nbformat": 3,
 "nbformat_minor": 0,
 "worksheets": [
  {
   "cells": [
    {
     "cell_type": "code",
     "collapsed": false,
     "input": [
      "%%pymodule --name=dataflow\n",
      "\n",
      "import gcp.dataflow as df\n",
      "import re\n",
      "\n",
      "class WordCount(df.PTransform):\n",
      "    \n",
      "    def __init__(self, label):\n",
      "        super(WordCount, self).__init__(label)\n",
      "        \n",
      "    def apply(self, lines):\n",
      "        return (lines |\n",
      "                df.ParDoFlatMap('tokenize', lambda x: re.findall(r'[A-Za-z\\']+', x)) |\n",
      "                df.Map('tuple', lambda x: (x, 1)) |\n",
      "                df.GroupByKey('group') |\n",
      "                df.Map('sum', lambda (word, ones): (word, sum(ones))))\n",
      "\n",
      "\n",
      "@df.arg('--input', metavar='path', help='the input file', default='/tmp/data.txt')\n",
      "@df.source('lines', lambda args: df.io.TextFileSource(args['input']))\n",
      "@df.sink('counts', df.io.TextFileSink('/tmp/counts.txt'))\n",
      "def dataflow(pipeline, catalog, args):\n",
      "    # inputs and outputs associated with the dataflow\n",
      "    lines_source = catalog.sources['lines']\n",
      "    counts_sink = catalog.sinks['counts']\n",
      "    \n",
      "    # read in input\n",
      "    lines = pipeline.read('read', lines_source)\n",
      "    \n",
      "    # apply the WordCount transform\n",
      "    counts = lines | WordCount('wordcount')\n",
      "    \n",
      "    # write out output\n",
      "    counts.write('write', counts_sink)"
     ],
     "language": "python",
     "metadata": {},
     "outputs": [],
     "prompt_number": 1
    },
    {
     "cell_type": "code",
     "collapsed": false,
     "input": [
      "lines = [ 'aa bb cc', 'hello world', 'goodbye world']"
     ],
     "language": "python",
     "metadata": {},
     "outputs": [],
     "prompt_number": 2
    },
    {
     "cell_type": "code",
     "collapsed": false,
     "input": [
      "%dataflow run --help"
     ],
     "language": "python",
     "metadata": {},
     "outputs": [
      {
       "output_type": "stream",
       "stream": "stdout",
       "text": [
        "usage: dataflow run [-h] [--execution {local,remote}] [--input path]\n",
        "\n",
        "optional arguments:\n",
        "  -h, --help            show this help message and exit\n",
        "  --execution {local,remote}\n",
        "                        whether the dataflow should be executed locally or\n",
        "                        remotely\n",
        "  --input path          the input file\n"
       ]
      }
     ],
     "prompt_number": 3
    },
    {
     "cell_type": "code",
     "collapsed": false,
     "input": [
      "%dataflow run"
     ],
     "language": "python",
     "metadata": {},
     "outputs": [
      {
       "html": [
        "<div id=\"_1432120564\" class=\"df-run\">\n",
        "    <svg class=\"df-pipeline\"><g /></svg>\n",
        "    <label class=\"df-title\"></label>\n",
        "    <div class=\"df-data\"></div>\n",
        "    </div><script>require([\"element!_1432120564\",\"style!/static/extensions/dataflow.css\",\"extensions/dataflow\"], function(dom,css,dataflow) {dataflow.renderPipeline(dom, [{\"nodes\": [], \"edges\": [\"wordcount\", \"wordcount/tokenize\"], \"id\": \"read\", \"name\": \"read\"}, {\"nodes\": [{\"nodes\": [], \"edges\": [\"wordcount/tuple\"], \"id\": \"wordcount/tokenize\", \"name\": \"tokenize\"}, {\"nodes\": [], \"edges\": [\"wordcount/group\", \"wordcount/group/reify_windows\"], \"id\": \"wordcount/tuple\", \"name\": \"tuple\"}, {\"nodes\": [{\"nodes\": [], \"edges\": [\"wordcount/group/group_by_key\"], \"id\": \"wordcount/group/reify_windows\", \"name\": \"reify_windows\"}, {\"nodes\": [], \"edges\": [\"wordcount/group/group_by_window\"], \"id\": \"wordcount/group/group_by_key\", \"name\": \"group_by_key\"}, {\"nodes\": [], \"edges\": [\"wordcount/sum\"], \"id\": \"wordcount/group/group_by_window\", \"name\": \"group_by_window\"}], \"edges\": [], \"id\": \"wordcount/group\", \"name\": \"group\"}, {\"nodes\": [], \"edges\": [\"write\"], \"id\": \"wordcount/sum\", \"name\": \"sum\"}], \"edges\": [], \"id\": \"wordcount\", \"name\": \"wordcount\"}, {\"nodes\": [], \"edges\": [], \"id\": \"write\", \"name\": \"write\"}], {\"wordcount/group/reify_windows\": {\"count\": 7, \"data\": [[\"aa\", [[\"GlobalWindow\"], 1]], [\"bb\", [[\"GlobalWindow\"], 1]], [\"cc\", [[\"GlobalWindow\"], 1]], [\"hello\", [[\"GlobalWindow\"], 1]], [\"world\", [[\"GlobalWindow\"], 1]], [\"goodbye\", [[\"GlobalWindow\"], 1]], [\"world\", [[\"GlobalWindow\"], 1]]]}, \"read\": {\"count\": 3, \"data\": [\"aa bb cc\", \"hello world\", \"goodbye world\"]}, \"wordcount/tokenize\": {\"count\": 7, \"data\": [\"aa\", \"bb\", \"cc\", \"hello\", \"world\", \"goodbye\", \"world\"]}, \"wordcount/tuple\": {\"count\": 7, \"data\": [[\"aa\", 1], [\"bb\", 1], [\"cc\", 1], [\"hello\", 1], [\"world\", 1], [\"goodbye\", 1], [\"world\", 1]]}, \"wordcount/sum\": {\"count\": 6, \"data\": [[\"aa\", 1], [\"bb\", 1], [\"cc\", 1], [\"goodbye\", 1], [\"world\", 2], [\"hello\", 1]]}, \"wordcount/group/group_by_window\": {\"count\": 6, \"data\": [[\"aa\", [1]], [\"bb\", [1]], [\"cc\", [1]], [\"goodbye\", [1]], [\"world\", [1, 1]], [\"hello\", [1]]]}, \"wordcount/group/group_by_key\": {\"count\": 6, \"data\": [[\"aa\", [[[\"GlobalWindow\"], 1]]], [\"bb\", [[[\"GlobalWindow\"], 1]]], [\"cc\", [[[\"GlobalWindow\"], 1]]], [\"goodbye\", [[[\"GlobalWindow\"], 1]]], [\"world\", [[[\"GlobalWindow\"], 1], [[\"GlobalWindow\"], 1]]], [\"hello\", [[[\"GlobalWindow\"], 1]]]]}})});</script>"
       ],
       "metadata": {},
       "output_type": "pyout",
       "prompt_number": 4,
       "text": [
        "<google.cloud.dataflow.pipeline.Pipeline at 0x109bde350>"
       ]
      }
     ],
     "prompt_number": 4
    },
    {
     "cell_type": "code",
     "collapsed": false,
     "input": [
      "counts"
     ],
     "language": "python",
     "metadata": {},
     "outputs": [
      {
       "metadata": {},
       "output_type": "pyout",
       "prompt_number": 5,
       "text": [
        "[('aa', 1), ('bb', 1), ('cc', 1), ('goodbye', 1), ('world', 2), ('hello', 1)]"
       ]
      }
     ],
     "prompt_number": 5
    },
    {
     "cell_type": "code",
     "collapsed": false,
     "input": [],
     "language": "python",
     "metadata": {},
     "outputs": []
    }
   ],
   "metadata": {}
  }
 ]
}