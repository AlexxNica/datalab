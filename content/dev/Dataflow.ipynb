{
 "metadata": {
  "name": "",
  "signature": ""
 },
 "nbformat": 3,
 "nbformat_minor": 0,
 "worksheets": [
  {
   "cells": [
    {
     "cell_type": "code",
     "collapsed": false,
     "input": [
      "%%pymodule --name dataflow\n",
      "\n",
      "import google.cloud.dataflow as df\n",
      "from google.cloud.dataflow.utils import options\n",
      "import re\n",
      "\n",
      "class WordCountTransform(df.PTransform):\n",
      "\n",
      "    def __init__(self, label):\n",
      "        super(WordCountTransform, self).__init__(label)\n",
      "\n",
      "    def apply(self, lines):\n",
      "        return (lines |\n",
      "                df.ParDoFlatMap('tokenize', lambda x: re.findall(r'[A-Za-z\\']+', x)) |\n",
      "                df.Map('tuple', lambda x: (x, 1)) |\n",
      "                df.GroupByKey('group') |\n",
      "                df.Map('count', lambda (word, ones): (word, sum(ones))))\n",
      "        \n",
      "def run(runner):\n",
      "    p = df.Pipeline(runner)\n",
      "    \n",
      "    lines = p.read('read', df.TextFileSource(options.get_options().input))\n",
      "    output = (lines |\n",
      "              WordCountTransform('wc') |\n",
      "              df.Map('format', lambda (word, c): '%s: %s' % (word, c)))\n",
      "    output | Write('write', df.TextFileSink(options.get_options().output))\n",
      "\n",
      "    p.run()\n",
      "\n",
      "def run_local(runner, lines):\n",
      "    p = df.Pipeline(runner)\n",
      "\n",
      "    lines = p.create('lines', lines)\n",
      "    counts = lines | WordCountTransform('wc')\n",
      "    \n",
      "    return p, counts\n",
      "\n",
      "\n",
      "options.add_option('--input', dest='input', required=True, help='Input file to read from.')\n",
      "options.add_option('--output', dest='output', required=True, help='Output file to write to.')\n",
      "\n",
      "def main(args=None):\n",
      "    args = options.get_options(args)\n",
      "    run(args.runner)\n",
      "\n",
      "if __name__ == '__main__':\n",
      "    main()"
     ],
     "language": "python",
     "metadata": {},
     "outputs": [],
     "prompt_number": 1
    },
    {
     "cell_type": "code",
     "collapsed": false,
     "input": [
      "import google.cloud.dataflow as df\n",
      "import google.cloud.dataflow.runners as runners"
     ],
     "language": "python",
     "metadata": {},
     "outputs": [],
     "prompt_number": 2
    },
    {
     "cell_type": "code",
     "collapsed": false,
     "input": [
      "lines = ['aa bb cc', 'foo bar', 'hello world', 'goodbye world']"
     ],
     "language": "python",
     "metadata": {},
     "outputs": [],
     "prompt_number": 3
    },
    {
     "cell_type": "code",
     "collapsed": false,
     "input": [
      "runner = runners.DirectPipelineRunner()\n",
      "\n",
      "pipeline, counts = dataflow.run_local(runner, lines)\n",
      "counts = list(counts.get())"
     ],
     "language": "python",
     "metadata": {},
     "outputs": [],
     "prompt_number": 4
    },
    {
     "cell_type": "code",
     "collapsed": false,
     "input": [
      "counts"
     ],
     "language": "python",
     "metadata": {},
     "outputs": [
      {
       "metadata": {},
       "output_type": "pyout",
       "prompt_number": 5,
       "text": [
        "[('aa', 1),\n",
        " ('bar', 1),\n",
        " ('bb', 1),\n",
        " ('cc', 1),\n",
        " ('goodbye', 1),\n",
        " ('world', 2),\n",
        " ('foo', 1),\n",
        " ('hello', 1)]"
       ]
      }
     ],
     "prompt_number": 5
    },
    {
     "cell_type": "code",
     "collapsed": false,
     "input": [
      "pipeline"
     ],
     "language": "python",
     "metadata": {},
     "outputs": [
      {
       "html": [
        "<div id=\"_1431914963\" class=\"df-run\">\n",
        "    <svg class=\"df-pipeline\"><g /></svg>\n",
        "    <label class=\"df-title\"></label>\n",
        "    <div class=\"df-data\"></div>\n",
        "    </div><script>require([\"element!_1431914963\",\"style!/static/extensions/dataflow.css\",\"extensions/dataflow\"], function(dom,css,dataflow) {dataflow.renderPipeline(dom, [{\"nodes\": [], \"edges\": [\"wc\", \"wc/tokenize\"], \"id\": \"lines\", \"name\": \"lines\"}, {\"nodes\": [{\"nodes\": [], \"edges\": [\"wc/tuple\"], \"id\": \"wc/tokenize\", \"name\": \"tokenize\"}, {\"nodes\": [], \"edges\": [\"wc/group\", \"wc/group/reify_windows\"], \"id\": \"wc/tuple\", \"name\": \"tuple\"}, {\"nodes\": [{\"nodes\": [], \"edges\": [\"wc/group/group_by_key\"], \"id\": \"wc/group/reify_windows\", \"name\": \"reify_windows\"}, {\"nodes\": [], \"edges\": [\"wc/group/group_by_window\"], \"id\": \"wc/group/group_by_key\", \"name\": \"group_by_key\"}, {\"nodes\": [], \"edges\": [\"wc/count\"], \"id\": \"wc/group/group_by_window\", \"name\": \"group_by_window\"}], \"edges\": [], \"id\": \"wc/group\", \"name\": \"group\"}, {\"nodes\": [], \"edges\": [], \"id\": \"wc/count\", \"name\": \"count\"}], \"edges\": [], \"id\": \"wc\", \"name\": \"wc\"}], {\"wc/count\": {\"count\": 8, \"data\": [[\"aa\", 1], [\"bar\", 1], [\"bb\", 1], [\"cc\", 1], [\"goodbye\", 1], [\"world\", 2], [\"foo\", 1], [\"hello\", 1]]}, \"wc/group/group_by_key\": {\"count\": 8, \"data\": [[\"aa\", [[[\"GlobalWindow\"], 1]]], [\"bar\", [[[\"GlobalWindow\"], 1]]], [\"bb\", [[[\"GlobalWindow\"], 1]]], [\"cc\", [[[\"GlobalWindow\"], 1]]], [\"goodbye\", [[[\"GlobalWindow\"], 1]]], [\"world\", [[[\"GlobalWindow\"], 1], [[\"GlobalWindow\"], 1]]], [\"foo\", [[[\"GlobalWindow\"], 1]]], [\"hello\", [[[\"GlobalWindow\"], 1]]]]}, \"lines\": {\"count\": 4, \"data\": [\"aa bb cc\", \"foo bar\", \"hello world\", \"goodbye world\"]}, \"wc/group/group_by_window\": {\"count\": 8, \"data\": [[\"aa\", [1]], [\"bar\", [1]], [\"bb\", [1]], [\"cc\", [1]], [\"goodbye\", [1]], [\"world\", [1, 1]], [\"foo\", [1]], [\"hello\", [1]]]}, \"wc/tuple\": {\"count\": 9, \"data\": [[\"aa\", 1], [\"bb\", 1], [\"cc\", 1], [\"foo\", 1], [\"bar\", 1], [\"hello\", 1], [\"world\", 1], [\"goodbye\", 1], [\"world\", 1]]}, \"wc/tokenize\": {\"count\": 9, \"data\": [\"aa\", \"bb\", \"cc\", \"foo\", \"bar\", \"hello\", \"world\", \"goodbye\", \"world\"]}, \"wc/group/reify_windows\": {\"count\": 9, \"data\": [[\"aa\", [[\"GlobalWindow\"], 1]], [\"bb\", [[\"GlobalWindow\"], 1]], [\"cc\", [[\"GlobalWindow\"], 1]], [\"foo\", [[\"GlobalWindow\"], 1]], [\"bar\", [[\"GlobalWindow\"], 1]], [\"hello\", [[\"GlobalWindow\"], 1]], [\"world\", [[\"GlobalWindow\"], 1]], [\"goodbye\", [[\"GlobalWindow\"], 1]], [\"world\", [[\"GlobalWindow\"], 1]]]}})});</script>"
       ],
       "metadata": {},
       "output_type": "pyout",
       "prompt_number": 6,
       "text": [
        "<google.cloud.dataflow.pipeline.Pipeline at 0x107910210>"
       ]
      }
     ],
     "prompt_number": 6
    },
    {
     "cell_type": "code",
     "collapsed": false,
     "input": [],
     "language": "python",
     "metadata": {},
     "outputs": [],
     "prompt_number": 6
    }
   ],
   "metadata": {}
  }
 ]
}
